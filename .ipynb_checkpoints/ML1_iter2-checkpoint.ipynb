{
 "cells": [
  {
   "cell_type": "markdown",
   "id": "bcead443-f32c-4dd0-826c-c448294661c0",
   "metadata": {},
   "source": [
    "## IMPORTING PACKAGES "
   ]
  },
  {
   "cell_type": "code",
   "execution_count": 1,
   "id": "0b1b0ce6-730c-480b-a625-6297bd6f388e",
   "metadata": {},
   "outputs": [],
   "source": [
    "# Importing packages \n",
    "import pandas as pd \n",
    "import numpy as np \n",
    "import matplotlib.pyplot as plt \n",
    "import seaborn as sns\n",
    "from sklearn.compose import make_column_selector\n",
    "from sklearn.compose import make_column_transformer\n",
    "from sklearn.pipeline import make_pipeline\n",
    "from sklearn.impute import SimpleImputer\n",
    "from sklearn.preprocessing import StandardScaler\n",
    "from sklearn.preprocessing import OneHotEncoder\n",
    "from sklearn.linear_model import LinearRegression\n",
    "from sklearn.model_selection import train_test_split\n",
    "from sklearn.svm import SVR\n",
    "from sklearn import tree\n",
    "from sklearn.ensemble import RandomForestRegressor\n",
    "from sklearn.model_selection import cross_val_score\n",
    "from sklearn.metrics import mean_squared_error\n",
    "from sklearn.model_selection import GridSearchCV\n",
    "import time "
   ]
  },
  {
   "cell_type": "markdown",
   "id": "62dd419b-50e1-4e8d-ba87-c69138ea9017",
   "metadata": {},
   "source": [
    "## USING READ PICKLE "
   ]
  },
  {
   "cell_type": "code",
   "execution_count": 2,
   "id": "d1006791-9336-46a6-ae00-f75b55e3b14a",
   "metadata": {},
   "outputs": [],
   "source": [
    "df_trees = pd.read_pickle('./df_trees.pkl')"
   ]
  },
  {
   "cell_type": "markdown",
   "id": "8eaa18d9-07e9-442e-9fe4-c7e1c91c1813",
   "metadata": {},
   "source": [
    "## CREATING DATA SPLIT "
   ]
  },
  {
   "cell_type": "code",
   "execution_count": 3,
   "id": "825433bf-19fe-4277-a15b-d9a1e8dc2a7f",
   "metadata": {},
   "outputs": [],
   "source": [
    "# Creating y and x \n",
    "y = df_trees['ANNEEDEPLANTATION']\n",
    "x = df_trees.drop('ANNEEDEPLANTATION', axis=1)\n",
    "\n",
    "# Creating training and testing dataset \n",
    "x_train, x_test, y_train, y_test = train_test_split(x, y, random_state=0) "
   ]
  },
  {
   "cell_type": "markdown",
   "id": "ec5fb99b-0c42-4f46-a308-4a4ceb881d5c",
   "metadata": {},
   "source": [
    "## PIPELINE "
   ]
  },
  {
   "cell_type": "code",
   "execution_count": 4,
   "id": "30755284-0bea-431a-a871-551bf1215aa3",
   "metadata": {},
   "outputs": [],
   "source": [
    "# Creating list of numerical and categorical values \n",
    "num_var = make_column_selector(dtype_include=np.number)\n",
    "cat_var = make_column_selector(dtype_include=object)"
   ]
  },
  {
   "cell_type": "code",
   "execution_count": 5,
   "id": "27b8a80b-b2bf-4758-bfa3-87cfe5fbd9df",
   "metadata": {},
   "outputs": [],
   "source": [
    "# Creating mun et cat pipelines \n",
    "num_pipeline = make_pipeline(SimpleImputer(strategy='most_frequent'), \n",
    "                             StandardScaler())\n",
    "\n",
    "cat_pipeline = make_pipeline(SimpleImputer(strategy='most_frequent'),\n",
    "                            OneHotEncoder(handle_unknown='ignore'))"
   ]
  },
  {
   "cell_type": "code",
   "execution_count": 6,
   "id": "2b3719de-e5b0-4cfd-8f87-d93f264d38fc",
   "metadata": {},
   "outputs": [],
   "source": [
    "# Creating pipeline combining num et cat var\n",
    "preprocess = make_column_transformer((num_pipeline, num_var),\n",
    "                                    (cat_pipeline, cat_var))"
   ]
  },
  {
   "cell_type": "code",
   "execution_count": 8,
   "id": "443495e3-b3c4-40df-b927-dbe98bbe7180",
   "metadata": {},
   "outputs": [],
   "source": [
    "# lin_model.named_steps['columntransformer'].transformers_[1][1].named_steps['onehotencoder'].categories_"
   ]
  },
  {
   "cell_type": "markdown",
   "id": "606514bb-d6a7-4854-beaa-ad19fb0def50",
   "metadata": {},
   "source": [
    "\n",
    "## TESTING NAIF_MODELE"
   ]
  },
  {
   "cell_type": "code",
   "execution_count": 18,
   "id": "28c51008-7cb4-43d7-abac-b6bb7dfcdfff",
   "metadata": {},
   "outputs": [
    {
     "data": {
      "text/plain": [
       "1989.6898603093464"
      ]
     },
     "execution_count": 18,
     "metadata": {},
     "output_type": "execute_result"
    }
   ],
   "source": [
    "# Creating naif model \n",
    "naif_model = y_train.mean()\n",
    "naif_model"
   ]
  },
  {
   "cell_type": "code",
   "execution_count": 19,
   "id": "d4a85af7-5f91-442f-97ad-a603810c1188",
   "metadata": {},
   "outputs": [
    {
     "name": "stdout",
     "output_type": "stream",
     "text": [
      "mean MSE = 321.4670713373224\n"
     ]
    }
   ],
   "source": [
    "# computing MSE of naif model \n",
    "def compute_MSE(y, y_predict):\n",
    "    mse = 0\n",
    "    n = len(y)\n",
    "    for i in (y):\n",
    "        mse_calcule = (i - y_predict)**2\n",
    "        mse = mse_calcule + mse\n",
    "    return mse / n \n",
    "\n",
    "# print(f'naif_model MSE =\n",
    "MSE_naif_model = compute_MSE(y_test, naif_model)\n",
    "print(f'mean MSE = {MSE_naif_model}')"
   ]
  },
  {
   "cell_type": "markdown",
   "id": "dba4f6b9-1f02-4d92-ae07-5f8726b43ceb",
   "metadata": {},
   "source": [
    "## TESTING LIN_MODELE"
   ]
  },
  {
   "cell_type": "code",
   "execution_count": 43,
   "id": "8905167a-8f56-4e93-83fa-fa871f5f7992",
   "metadata": {},
   "outputs": [
    {
     "name": "stdout",
     "output_type": "stream",
     "text": [
      "naif model MSE = 321.4670713373224\n",
      "lin_model train mean MSE: 162.58526634313242\n",
      "lin_model train std MSE: 4.693593014502271\n",
      "lin_model train mean R²: 0.4899604137256414\n",
      "lin_model train std R²: 0.009223693810323792\n"
     ]
    }
   ],
   "source": [
    "# Trainning lin_model and testing overfitting  \n",
    "\n",
    "# Creating \n",
    "lin_model = make_pipeline(preprocess, LinearRegression())\n",
    "\n",
    "# Testing overfitting \n",
    "lin_cv_scores_train = cross_val_score(lin_model, x_train, y_train, cv=5, scoring='neg_mean_squared_error')\n",
    "lin_cv_scores_R2_train = cross_val_score(lin_model, x_train, y_train, cv=5, scoring='r2')\n",
    "\n",
    "print(f'naif model MSE = {MSE_naif_model}')\n",
    "print('lin_model train mean MSE:',np.mean(-lin_cv_scores_train))\n",
    "print('lin_model train std MSE:',np.std(-lin_cv_scores_train))\n",
    "print('lin_model train mean R²:',np.mean(lin_cv_scores_R2_train))\n",
    "print('lin_model train std R²:',np.std(lin_cv_scores_R2_train))"
   ]
  },
  {
   "cell_type": "code",
   "execution_count": 41,
   "id": "740e3a58-9984-4061-be37-88e52a2a6f55",
   "metadata": {},
   "outputs": [
    {
     "name": "stdout",
     "output_type": "stream",
     "text": [
      "naif model MSE = 321.4670713373224\n",
      "lin_model train MSE : 156.89878787773398\n",
      "lin_model train R² : 0.5077390743965187\n",
      "lin_model test MSE : 163.84672887055598\n",
      "lin_model test R² : 0.49031431942549275\n"
     ]
    }
   ],
   "source": [
    "# Fitting and testing lin_model\n",
    "\n",
    "# Fitting \n",
    "lin_model.fit(x_train,y_train)\n",
    "\n",
    "# Testing \n",
    "y_pred_train_lin = lin_model.predict(x_train)\n",
    "lin_mse_train = mean_squared_error(y_train,y_pred_train_lin)\n",
    "y_pred_test_lin = lin_model.predict(x_test)\n",
    "lin_mse_test = mean_squared_error(y_test,y_pred_test_lin)\n",
    "lin_r2_train = lin_model.score(x_train, y_train)\n",
    "lin_r2_test = lin_model.score(x_test, y_test)\n",
    "\n",
    "print(f'naif model MSE = {MSE_naif_model}')\n",
    "print(f'lin_model train MSE : {lin_mse_train}')\n",
    "print(f'lin_model train R² : {lin_r2_train}')\n",
    "print(f'lin_model test MSE : {lin_mse_test}')\n",
    "print(f'lin_model test R² : {lin_r2_test}')"
   ]
  },
  {
   "cell_type": "markdown",
   "id": "1875ffab-c9b3-4f00-827f-64f39b8d484e",
   "metadata": {},
   "source": [
    "## TESTING SVR_MODEL"
   ]
  },
  {
   "cell_type": "code",
   "execution_count": 38,
   "id": "5f7cde2c-a0f7-46ee-916d-17a202b59170",
   "metadata": {},
   "outputs": [
    {
     "name": "stdout",
     "output_type": "stream",
     "text": [
      "naif model MSE = 321.4670713373224\n",
      "SVR_model train mean MSE: 155.5955785609023\n",
      "SVR_model train std MSE: 5.625580288666737\n",
      "SVR_model train mean R²: 0.5118950437257619\n",
      "SVR_model train std R²: 0.013632678461715661\n"
     ]
    }
   ],
   "source": [
    "# Creating forest_model and testing overfitting \n",
    "\n",
    "# Creating \n",
    "SVR_model = make_pipeline(preprocess, SVR())\n",
    "\n",
    "# Testing overfitting \n",
    "SVR_cv_scores_train = cross_val_score(SVR_model, x_train, y_train, cv=5, scoring='neg_mean_squared_error')\n",
    "SVR_cv_scores_R2_train = cross_val_score(SVR_model, x_train, y_train, cv=5, scoring='r2')\n",
    "\n",
    "print(f'naif model MSE = {MSE_naif_model}')\n",
    "print('SVR_model train mean MSE:',np.mean(-SVR_cv_scores_train))\n",
    "print('SVR_model train std MSE:',np.std(-SVR_cv_scores_train))\n",
    "print('SVR_model train mean R²:',np.mean(SVR_cv_scores_R2_train))\n",
    "print('SVR_model train std R²:',np.std(SVR_cv_scores_R2_train))"
   ]
  },
  {
   "cell_type": "code",
   "execution_count": 39,
   "id": "407ce00a-614d-422a-9724-2622d1d0d96c",
   "metadata": {},
   "outputs": [
    {
     "name": "stdout",
     "output_type": "stream",
     "text": [
      "naif model MSE = 321.4670713373224\n",
      "SVR_model train MSE : 145.97638236194607\n",
      "SVR_model train R² : 0.5420074936860813\n",
      "SVR_model test MSE : 153.445155778634\n",
      "SVR_model test R² : 0.5226709791949418\n"
     ]
    }
   ],
   "source": [
    "# Fitting and testing SVR_model\n",
    "\n",
    "# Fitting \n",
    "SVR_model.fit(x_train,y_train)\n",
    "\n",
    "# Testing \n",
    "y_pred_train_SVR = SVR_model.predict(x_train)\n",
    "SVR_mse_train = mean_squared_error(y_train,y_pred_train_SVR)\n",
    "y_pred_test_SVR = SVR_model.predict(x_test)\n",
    "SVR_mse_test = mean_squared_error(y_test,y_pred_test_SVR)\n",
    "SVR_r2_train = SVR_model.score(x_train, y_train)\n",
    "SVR_r2_test = SVR_model.score(x_test, y_test)\n",
    "\n",
    "print(f'naif model MSE = {MSE_naif_model}')\n",
    "print(f'SVR_model train MSE : {SVR_mse_train}')\n",
    "print(f'SVR_model train R² : {SVR_r2_train}')\n",
    "print(f'SVR_model test MSE : {SVR_mse_test}')\n",
    "print(f'SVR_model test R² : {SVR_r2_test}')"
   ]
  },
  {
   "cell_type": "markdown",
   "id": "035c8e09-373b-425f-abda-74cd0f6c6d3e",
   "metadata": {},
   "source": [
    "## TESTING TREE_MODEL"
   ]
  },
  {
   "cell_type": "code",
   "execution_count": 36,
   "id": "62ec6d9c-f0af-4a42-9739-bd3998404fc4",
   "metadata": {
    "tags": []
   },
   "outputs": [
    {
     "name": "stdout",
     "output_type": "stream",
     "text": [
      "naif model MSE = 321.4670713373224\n",
      "tree_model train mean MSE: 76.62608424456337\n",
      "tree_model train std MSE: 5.526464114823786\n",
      "tree_model train mean R²: 0.7575177242332058\n",
      "tree_model train std R²: 0.015454159856259241\n"
     ]
    }
   ],
   "source": [
    "# Creating tree_model and testing overfitting\n",
    "\n",
    "# Creating \n",
    "tree_model = make_pipeline(preprocess, tree.DecisionTreeRegressor())\n",
    "\n",
    "# Testing overfitting \n",
    "tree_cv_scores_train = cross_val_score(tree_model, x_train, y_train, cv=5, scoring='neg_mean_squared_error')\n",
    "tree_cv_scores_R2_train = cross_val_score(tree_model, x_train, y_train, cv=5, scoring='r2')\n",
    "\n",
    "print(f'naif model MSE = {MSE_naif_model}')\n",
    "print('tree_model train mean MSE:',np.mean(-tree_cv_scores_train))\n",
    "print('tree_model train std MSE:',np.std(-tree_cv_scores_train))\n",
    "print('tree_model train mean R²:',np.mean(tree_cv_scores_R2_train))\n",
    "print('tree_model train std R²:',np.std(tree_cv_scores_R2_train))"
   ]
  },
  {
   "cell_type": "code",
   "execution_count": 37,
   "id": "21853321-df53-42fb-adff-cc08828cbd92",
   "metadata": {},
   "outputs": [
    {
     "name": "stdout",
     "output_type": "stream",
     "text": [
      "naif model MSE = 321.4670713373224\n",
      "tree_model train MSE : 0.0\n",
      "tree_model train R² : 1.0\n",
      "tree_model test MSE : 73.25247851949769\n",
      "tree_model test R² : 0.7721300899606238\n"
     ]
    }
   ],
   "source": [
    "# Testing tree_model \n",
    "\n",
    "# Fitting \n",
    "tree_model.fit(x_train,y_train)\n",
    "\n",
    "# Testing \n",
    "y_pred_train_tree = tree_model.predict(x_train)\n",
    "tree_mse_train = mean_squared_error(y_train,y_pred_train_tree)\n",
    "y_pred_test_tree = tree_model.predict(x_test)\n",
    "tree_mse_test = mean_squared_error(y_test,y_pred_test_tree)\n",
    "tree_r2_train = tree_model.score(x_train, y_train)\n",
    "tree_r2_test = tree_model.score(x_test, y_test)\n",
    "\n",
    "print(f'naif model MSE = {MSE_naif_model}')\n",
    "print(f'tree_model train MSE : {tree_mse_train}')\n",
    "print(f'tree_model train R² : {tree_r2_train}')\n",
    "print(f'tree_model test MSE : {tree_mse_test}')\n",
    "print(f'tree_model test R² : {tree_r2_test}')"
   ]
  },
  {
   "cell_type": "markdown",
   "id": "03ac8165-dad0-4611-b16e-9f9294d1f304",
   "metadata": {},
   "source": [
    "## TESTING FOREST_MODEL"
   ]
  },
  {
   "cell_type": "code",
   "execution_count": 32,
   "id": "fe9bd0f0-d103-4f6a-b4ac-99d85dda9d1d",
   "metadata": {
    "tags": []
   },
   "outputs": [
    {
     "name": "stdout",
     "output_type": "stream",
     "text": [
      "naif model MSE = 321.4670713373224\n",
      "forest_model train mean MSE: 52.51664284142011\n",
      "forest_model train std MSE: 4.880023098675987\n",
      "forest_model train mean R²: 0.8340979899405413\n",
      "forest_model train std R²: 0.01389320100372562\n"
     ]
    }
   ],
   "source": [
    "# Creating forest_model and testing overfitting \n",
    "\n",
    "# Creating \n",
    "forest_model = make_pipeline(preprocess, RandomForestRegressor(n_estimators=10))\n",
    "\n",
    "# Testing overfitting \n",
    "forest_cv_scores_train = cross_val_score(forest_model, x_train, y_train, cv=5, scoring='neg_mean_squared_error')\n",
    "forest_cv_scores_R2_train = cross_val_score(forest_model, x_train, y_train, cv=5, scoring='r2')\n",
    "\n",
    "print(f'naif model MSE = {MSE_naif_model}')\n",
    "print('forest_model train mean MSE:',np.mean(-forest_cv_scores_train))\n",
    "print('forest_model train std MSE:',np.std(-forest_cv_scores_train))\n",
    "print('forest_model train mean R²:',np.mean(forest_cv_scores_R2_train))\n",
    "print('forest_model train std R²:',np.std(forest_cv_scores_R2_train))"
   ]
  },
  {
   "cell_type": "code",
   "execution_count": 35,
   "id": "ba032c7b-b7c7-4a98-885f-1dd4f74af106",
   "metadata": {},
   "outputs": [
    {
     "name": "stdout",
     "output_type": "stream",
     "text": [
      "naif model MSE = 321.4670713373224\n",
      "forest_model train MSE : 8.6451764861411\n",
      "forest_model train R² : 0.9728762558548918\n",
      "forest_model test MSE : 47.146270984798406\n",
      "forest_model test R² : 0.8533398904019537\n"
     ]
    }
   ],
   "source": [
    "# Fitting and testing forest_model\n",
    "\n",
    "# Fitting \n",
    "forest_model.fit(x_train,y_train)\n",
    "\n",
    "# Testing \n",
    "y_pred_train_forest = forest_model.predict(x_train)\n",
    "forest_mse_train = mean_squared_error(y_train,y_pred_train_forest)\n",
    "y_pred_test_forest = forest_model.predict(x_test)\n",
    "forest_mse_test = mean_squared_error(y_test,y_pred_test_forest)\n",
    "forest_r2_train = forest_model.score(x_train, y_train)\n",
    "forest_r2_test = forest_model.score(x_test, y_test)\n",
    "\n",
    "print(f'naif model MSE = {MSE_naif_model}')\n",
    "print(f'forest_model train MSE : {forest_mse_train}')\n",
    "print(f'forest_model train R² : {forest_r2_train}')\n",
    "print(f'forest_model test MSE : {forest_mse_test}')\n",
    "print(f'forest_model test R² : {forest_r2_test}')"
   ]
  },
  {
   "cell_type": "code",
   "execution_count": 45,
   "id": "bfc6564f-e59d-4988-a2b2-2f392f787782",
   "metadata": {},
   "outputs": [
    {
     "data": {
      "text/plain": [
       "dict_keys(['columntransformer', 'randomforestregressor'])"
      ]
     },
     "execution_count": 45,
     "metadata": {},
     "output_type": "execute_result"
    }
   ],
   "source": [
    "# Varifiying model kyes \n",
    "forest_model.named_steps.keys()"
   ]
  },
  {
   "cell_type": "markdown",
   "id": "27227887-6fb3-4bc2-afd5-b5990cefb5ec",
   "metadata": {},
   "source": [
    "## GRIDSEARCH RANDOM FOREST  "
   ]
  },
  {
   "cell_type": "code",
   "execution_count": 47,
   "id": "8439b48e-0bd7-4695-8bcd-fcc053fa17e5",
   "metadata": {},
   "outputs": [
    {
     "data": {
      "text/plain": [
       "GridSearchCV(cv=5,\n",
       "             estimator=Pipeline(steps=[('columntransformer',\n",
       "                                        ColumnTransformer(transformers=[('pipeline-1',\n",
       "                                                                         Pipeline(steps=[('simpleimputer',\n",
       "                                                                                          SimpleImputer(strategy='most_frequent')),\n",
       "                                                                                         ('standardscaler',\n",
       "                                                                                          StandardScaler())]),\n",
       "                                                                         <sklearn.compose._column_transformer.make_column_selector object at 0x7f6153826f40>),\n",
       "                                                                        ('pipeline-2',\n",
       "                                                                         Pipeline(steps=[('simpleimputer...\n",
       "                                                                                          OneHotEncoder(handle_unknown='ignore'))]),\n",
       "                                                                         <sklearn.compose._column_transformer.make_column_selector object at 0x7f6153826ee0>)])),\n",
       "                                       ('randomforestregressor',\n",
       "                                        RandomForestRegressor())]),\n",
       "             n_jobs=-1,\n",
       "             param_grid={'randomforestregressor__min_samples_leaf': [1, 2, 3,\n",
       "                                                                     4],\n",
       "                         'randomforestregressor__min_samples_split': [2, 3, 4],\n",
       "                         'randomforestregressor__n_estimators': [10, 25, 50, 75,\n",
       "                                                                 100]})"
      ]
     },
     "execution_count": 47,
     "metadata": {},
     "output_type": "execute_result"
    }
   ],
   "source": [
    "# Creating grid \n",
    "model = make_pipeline(preprocess, RandomForestRegressor())\n",
    "\n",
    "# Creating \n",
    "params = {\n",
    "    'randomforestregressor__n_estimators':[75],\n",
    "    'randomforestregressor__min_samples_split':[2, 3, 4,],\n",
    "    'randomforestregressor__min_samples_leaf':[1, 2, 3, 4]\n",
    "}\n",
    "\n",
    "# Creating gridsearch \n",
    "grid = GridSearchCV(model, param_grid=params, cv=5,n_jobs=-1)\n",
    "\n",
    "# Model fitting \n",
    "grid.fit(x_train, y_train)"
   ]
  },
  {
   "cell_type": "code",
   "execution_count": 50,
   "id": "43b664a6-85f0-49e7-97e6-9f6422ac6c05",
   "metadata": {},
   "outputs": [
    {
     "data": {
      "text/plain": [
       "0.8685407677601558"
      ]
     },
     "execution_count": 50,
     "metadata": {},
     "output_type": "execute_result"
    }
   ],
   "source": [
    "# Model testing \n",
    "grid.score(x_test, y_test)"
   ]
  },
  {
   "cell_type": "code",
   "execution_count": 58,
   "id": "da1c1531-da5d-428b-b004-9cac9d2ef523",
   "metadata": {},
   "outputs": [
    {
     "data": {
      "text/plain": [
       "60.586666666666666"
      ]
     },
     "execution_count": 58,
     "metadata": {},
     "output_type": "execute_result"
    }
   ],
   "source": [
    "# Seeing trees depth mean  \n",
    "l_d=[]\n",
    "for estimator in grid.best_estimator_.named_steps['randomforestregressor'].estimators_:\n",
    "    l_d.append(estimator.get_depth())\n",
    "sum(l_d)/len(l_d)"
   ]
  },
  {
   "cell_type": "code",
   "execution_count": 61,
   "id": "b6b39422-1509-404d-80b8-a41b35650539",
   "metadata": {
    "collapsed": true,
    "jupyter": {
     "outputs_hidden": true
    },
    "tags": []
   },
   "outputs": [
    {
     "data": {
      "text/plain": [
       "[391,\n",
       " 391,\n",
       " 391,\n",
       " 391,\n",
       " 391,\n",
       " 391,\n",
       " 391,\n",
       " 391,\n",
       " 391,\n",
       " 391,\n",
       " 391,\n",
       " 391,\n",
       " 391,\n",
       " 391,\n",
       " 391,\n",
       " 391,\n",
       " 391,\n",
       " 391,\n",
       " 391,\n",
       " 391,\n",
       " 391,\n",
       " 391,\n",
       " 391,\n",
       " 391,\n",
       " 391,\n",
       " 391,\n",
       " 391,\n",
       " 391,\n",
       " 391,\n",
       " 391,\n",
       " 391,\n",
       " 391,\n",
       " 391,\n",
       " 391,\n",
       " 391,\n",
       " 391,\n",
       " 391,\n",
       " 391,\n",
       " 391,\n",
       " 391,\n",
       " 391,\n",
       " 391,\n",
       " 391,\n",
       " 391,\n",
       " 391,\n",
       " 391,\n",
       " 391,\n",
       " 391,\n",
       " 391,\n",
       " 391,\n",
       " 391,\n",
       " 391,\n",
       " 391,\n",
       " 391,\n",
       " 391,\n",
       " 391,\n",
       " 391,\n",
       " 391,\n",
       " 391,\n",
       " 391,\n",
       " 391,\n",
       " 391,\n",
       " 391,\n",
       " 391,\n",
       " 391,\n",
       " 391,\n",
       " 391,\n",
       " 391,\n",
       " 391,\n",
       " 391,\n",
       " 391,\n",
       " 391,\n",
       " 391,\n",
       " 391,\n",
       " 391]"
      ]
     },
     "execution_count": 61,
     "metadata": {},
     "output_type": "execute_result"
    }
   ],
   "source": [
    "# grid displaying max_features parameter \n",
    "l = []\n",
    "for estimator in grid.best_estimator_.named_steps['randomforestregressor'].estimators_:\n",
    "    l.append(estimator.max_features_)    \n",
    "sum(l)/len(l)"
   ]
  },
  {
   "cell_type": "code",
   "execution_count": 9,
   "id": "ffe45e39-dab8-4454-b39f-8a5091fadbcf",
   "metadata": {},
   "outputs": [
    {
     "data": {
      "text/plain": [
       "GridSearchCV(cv=4,\n",
       "             estimator=Pipeline(steps=[('columntransformer',\n",
       "                                        ColumnTransformer(transformers=[('pipeline-1',\n",
       "                                                                         Pipeline(steps=[('simpleimputer',\n",
       "                                                                                          SimpleImputer(strategy='most_frequent')),\n",
       "                                                                                         ('standardscaler',\n",
       "                                                                                          StandardScaler())]),\n",
       "                                                                         <sklearn.compose._column_transformer.make_column_selector object at 0x0000022AFC421DC0>),\n",
       "                                                                        ('pipeline-2',\n",
       "                                                                         Pipeline(steps=[('simpleimp...\n",
       "                                                                                          OneHotEncoder(handle_unknown='ignore'))]),\n",
       "                                                                         <sklearn.compose._column_transformer.make_column_selector object at 0x0000022AFC421400>)])),\n",
       "                                       ('randomforestregressor',\n",
       "                                        RandomForestRegressor())]),\n",
       "             n_jobs=-1,\n",
       "             param_grid={'randomforestregressor__max_depth': [50, 40, 30],\n",
       "                         'randomforestregressor__max_features': [350, 250, 150],\n",
       "                         'randomforestregressor__n_estimators': [75, 125, 200]})"
      ]
     },
     "execution_count": 9,
     "metadata": {},
     "output_type": "execute_result"
    }
   ],
   "source": [
    "# Creating grid2\n",
    "model = make_pipeline(preprocess, RandomForestRegressor())\n",
    "\n",
    "# Creating \n",
    "params2 = {\n",
    "    'randomforestregressor__n_estimators':[75, 125, 200],\n",
    "    'randomforestregressor__max_depth':[50, 40, 30],\n",
    "    'randomforestregressor__max_features':[350, 250, 150]\n",
    "}\n",
    "\n",
    "# Creating gridsearch \n",
    "grid2 = GridSearchCV(model, param_grid=params2, cv=4,n_jobs=-1)\n",
    "\n",
    "# Model fitting \n",
    "grid2.fit(x_train, y_train)"
   ]
  },
  {
   "cell_type": "code",
   "execution_count": 10,
   "id": "c757fd88-3c20-40c8-9d79-fa1277143ed4",
   "metadata": {},
   "outputs": [
    {
     "data": {
      "text/plain": [
       "0.874158659777358"
      ]
     },
     "execution_count": 10,
     "metadata": {},
     "output_type": "execute_result"
    }
   ],
   "source": [
    "# Model testing \n",
    "grid2.score(x_test, y_test)"
   ]
  },
  {
   "cell_type": "code",
   "execution_count": 12,
   "id": "8e557cba-311d-4784-8ef3-c5d8377b44db",
   "metadata": {},
   "outputs": [
    {
     "data": {
      "text/plain": [
       "{'randomforestregressor__max_depth': 50,\n",
       " 'randomforestregressor__max_features': 150,\n",
       " 'randomforestregressor__n_estimators': 200}"
      ]
     },
     "execution_count": 12,
     "metadata": {},
     "output_type": "execute_result"
    }
   ],
   "source": [
    "grid2.best_params_"
   ]
  },
  {
   "cell_type": "code",
   "execution_count": 13,
   "id": "e022c3af-bf0b-45c7-94db-33750b40e3e4",
   "metadata": {},
   "outputs": [
    {
     "data": {
      "text/plain": [
       "49.995"
      ]
     },
     "execution_count": 13,
     "metadata": {},
     "output_type": "execute_result"
    }
   ],
   "source": [
    "# Seeing trees depth mean  \n",
    "l_d2=[]\n",
    "for estimator in grid2.best_estimator_.named_steps['randomforestregressor'].estimators_:\n",
    "    l_d2.append(estimator.get_depth())\n",
    "sum(l_d2)/len(l_d2)"
   ]
  },
  {
   "cell_type": "code",
   "execution_count": null,
   "id": "f2bbf61f-3dcb-4dc9-9ce7-0a42863e548a",
   "metadata": {
    "tags": []
   },
   "outputs": [],
   "source": [
    "# grid2 displaying max_features parameter \n",
    "\n",
    "for i in grid2.best_estimator_.named_steps['randomforestregressor'].estimators_ : \n",
    "    print(i.max_features_)    "
   ]
  },
  {
   "cell_type": "markdown",
   "id": "0ebd07ab-95a2-4e2b-a685-e53c11894680",
   "metadata": {},
   "source": [
    "## PREDICTING YEAR VALUES "
   ]
  },
  {
   "cell_type": "code",
   "execution_count": 26,
   "id": "71c04310-31c6-40b3-9671-9ba9b0cdcba7",
   "metadata": {},
   "outputs": [],
   "source": [
    "y_predict_test = grid2.predict(x_test)"
   ]
  },
  {
   "cell_type": "code",
   "execution_count": 35,
   "id": "bce499d3-ebc9-4584-b5cf-8bbd34f367d1",
   "metadata": {},
   "outputs": [
    {
     "data": {
      "text/plain": [
       "1989.5347021643538"
      ]
     },
     "execution_count": 35,
     "metadata": {},
     "output_type": "execute_result"
    },
    {
     "data": {
      "image/png": "[encoded data removed]",
      "text/plain": [
       "<Figure size 432x288 with 1 Axes>"
      ]
     },
     "metadata": {
      "needs_background": "light"
     },
     "output_type": "display_data"
    }
   ],
   "source": [
    "plt.figure()\n",
    "plt.hist(y_predict_test, bins=60);\n",
    "# mean of predictions \n",
    "y_predict_test.mean()"
   ]
  },
  {
   "cell_type": "code",
   "execution_count": 7,
   "id": "965d2a1a-f201-4d41-aa5a-73e91d132736",
   "metadata": {},
   "outputs": [
    {
     "name": "stdout",
     "output_type": "stream",
     "text": [
      "-2229.9422097206116\n"
     ]
    }
   ],
   "source": [
    "# Creating grid3\n",
    "model = make_pipeline(preprocess, RandomForestRegressor())\n",
    "\n",
    "# Creating \n",
    "params3 = {\n",
    "    'randomforestregressor__n_estimators':[200, 300, 400],\n",
    "    'randomforestregressor__max_depth':[50, 45],\n",
    "    'randomforestregressor__max_features':[150, 100]\n",
    "}\n",
    "\n",
    "# Creating gridsearch \n",
    "grid3 = GridSearchCV(model, param_grid=params3, cv=4,n_jobs=-1)\n",
    "\n",
    "start=time.time()\n",
    "# Model fitting \n",
    "grid3.fit(x_train, y_train)\n",
    "\n",
    "end=time.time()\n",
    "\n",
    "print(start-end)"
   ]
  },
  {
   "cell_type": "code",
   "execution_count": 14,
   "id": "ca506f06-f165-42a8-a762-451030dd3b05",
   "metadata": {},
   "outputs": [
    {
     "data": {
      "text/plain": [
       "0.8738261754124979"
      ]
     },
     "execution_count": 14,
     "metadata": {},
     "output_type": "execute_result"
    }
   ],
   "source": [
    "grid3.score(x_test, y_test)"
   ]
  },
  {
   "cell_type": "code",
   "execution_count": 15,
   "id": "f692fa8c-77b4-435a-87c4-3756526de725",
   "metadata": {},
   "outputs": [
    {
     "name": "stdout",
     "output_type": "stream",
     "text": [
      "-1135.1666700839996\n"
     ]
    }
   ],
   "source": [
    "# Creating grid4\n",
    "model = make_pipeline(preprocess, RandomForestRegressor(random_state=10))\n",
    "\n",
    "# Creating \n",
    "params4 = {\n",
    "    'randomforestregressor__n_estimators':[200, 300],\n",
    "    'randomforestregressor__max_depth':[50, 40],\n",
    "    'randomforestregressor__max_features':[100, 75]\n",
    "}\n",
    "\n",
    "# Creating gridsearch \n",
    "grid4 = GridSearchCV(model, param_grid=params4, cv=4,n_jobs=-1)\n",
    "\n",
    "start=time.time()\n",
    "# Model fitting \n",
    "grid4.fit(x_train, y_train)\n",
    "\n",
    "end=time.time()\n",
    "\n",
    "print(start-end)"
   ]
  },
  {
   "cell_type": "code",
   "execution_count": 16,
   "id": "5919c37c-a3bd-4ac5-9439-a05255241c6b",
   "metadata": {},
   "outputs": [
    {
     "data": {
      "text/plain": [
       "0.8742528736358519"
      ]
     },
     "execution_count": 16,
     "metadata": {},
     "output_type": "execute_result"
    }
   ],
   "source": [
    "grid4.score(x_test, y_test)"
   ]
  },
  {
   "cell_type": "code",
   "execution_count": 17,
   "id": "c2198ebb-4d0e-4d1e-b732-3ed51d73ab39",
   "metadata": {},
   "outputs": [
    {
     "data": {
      "text/plain": [
       "{'randomforestregressor__max_depth': 50,\n",
       " 'randomforestregressor__max_features': 100,\n",
       " 'randomforestregressor__n_estimators': 300}"
      ]
     },
     "execution_count": 17,
     "metadata": {},
     "output_type": "execute_result"
    }
   ],
   "source": [
    "grid4.best_params_"
   ]
  },
  {
   "cell_type": "markdown",
   "id": "653fe13c-d71e-4878-b4b1-b65d01791265",
   "metadata": {},
   "source": [
    "## TESTING GRIDSEARCH WITH NEW COLUMNS  "
   ]
  },
  {
   "cell_type": "code",
   "execution_count": 24,
   "id": "cc0c7c87-2bb6-4aa3-8e96-1f8a5414f855",
   "metadata": {},
   "outputs": [
    {
     "name": "stdout",
     "output_type": "stream",
     "text": [
      "-8817.505454301834\n"
     ]
    }
   ],
   "source": [
    "# Creating grid5 with new columns \n",
    "model = make_pipeline(preprocess, RandomForestRegressor(random_state=10))\n",
    "\n",
    "# Creating \n",
    "params5 = {\n",
    "    'randomforestregressor__n_estimators':[200, 300, 400, 500],\n",
    "    'randomforestregressor__max_depth':[60, 50, 40],\n",
    "    'randomforestregressor__max_features':[125, 100, 75, 50]\n",
    "}\n",
    "\n",
    "# Creating gridsearch \n",
    "grid5 = GridSearchCV(model, param_grid=params5, cv=4,n_jobs=-1) \n",
    "\n",
    "start=time.time()\n",
    "# Model fitting \n",
    "grid5.fit(x_train, y_train)\n",
    "\n",
    "end=time.time()\n",
    "\n",
    "print(start-end)"
   ]
  },
  {
   "cell_type": "code",
   "execution_count": 22,
   "id": "372dcf80-edec-4413-b87b-5398be3df145",
   "metadata": {},
   "outputs": [
    {
     "data": {
      "text/plain": [
       "{'randomforestregressor__max_depth': 50,\n",
       " 'randomforestregressor__max_features': 75,\n",
       " 'randomforestregressor__n_estimators': 300}"
      ]
     },
     "execution_count": 22,
     "metadata": {},
     "output_type": "execute_result"
    }
   ],
   "source": [
    "grid5.best_params_"
   ]
  },
  {
   "cell_type": "code",
   "execution_count": 23,
   "id": "1e8af16e-9d8d-4abf-be2b-23f87d842cbe",
   "metadata": {},
   "outputs": [
    {
     "data": {
      "text/plain": [
       "0.8637114169834907"
      ]
     },
     "execution_count": 23,
     "metadata": {},
     "output_type": "execute_result"
    }
   ],
   "source": [
    "grid5.score(x_test, y_test)"
   ]
  },
  {
   "cell_type": "code",
   "execution_count": 25,
   "id": "09418a1b-2954-4584-a59d-62c9f4348898",
   "metadata": {},
   "outputs": [
    {
     "name": "stdout",
     "output_type": "stream",
     "text": [
      "{'randomforestregressor__max_depth': 60, 'randomforestregressor__max_features': 50, 'randomforestregressor__n_estimators': 500}\n",
      "0.8664597070711992\n"
     ]
    }
   ],
   "source": [
    "print(grid5.best_params_)\n",
    "print(grid5.score(x_test, y_test))"
   ]
  }
 ],
 "metadata": {
  "kernelspec": {
   "display_name": "Python 3 (ipykernel)",
   "language": "python",
   "name": "python3"
  },
  "language_info": {
   "codemirror_mode": {
    "name": "ipython",
    "version": 3
   },
   "file_extension": ".py",
   "mimetype": "text/x-python",
   "name": "python",
   "nbconvert_exporter": "python",
   "pygments_lexer": "ipython3",
   "version": "3.9.7"
  },
  "toc-autonumbering": false
 },
 "nbformat": 4,
 "nbformat_minor": 5
}
