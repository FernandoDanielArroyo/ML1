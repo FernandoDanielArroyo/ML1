{
 "cells": [
  {
   "cell_type": "code",
   "execution_count": 1,
   "id": "0f824e24-ef56-4d0b-a0d0-76f5c21a78f9",
   "metadata": {},
   "outputs": [],
   "source": [
    "# Importing packages \n",
    "import pandas as pd \n",
    "import numpy as np \n",
    "import matplotlib.pyplot as plt \n",
    "import seaborn as sns"
   ]
  },
  {
   "cell_type": "markdown",
   "id": "662b26b9-b8c1-4164-9348-7487cc9fafa0",
   "metadata": {},
   "source": [
    "# LOADING DATA "
   ]
  },
  {
   "cell_type": "code",
   "execution_count": 2,
   "id": "9ce36781-9e2d-4727-90d2-966f2c83926c",
   "metadata": {},
   "outputs": [],
   "source": [
    "# loading data  \n",
    "df_trees_origin = pd.read_csv('trees.csv')\n",
    "df_trees = df_trees_origin.copy()"
   ]
  },
  {
   "cell_type": "code",
   "execution_count": 3,
   "id": "f8d005dd-73ad-46e9-9275-5767e4ddd01b",
   "metadata": {},
   "outputs": [],
   "source": [
    "# displaying more columns and rows \n",
    "pd.set_option('display.max_row', 150)\n",
    "pd.set_option('display.max_columns', 50)"
   ]
  },
  {
   "cell_type": "markdown",
   "id": "dc393c1b-5e54-4108-a7ed-c948dbeb0142",
   "metadata": {},
   "source": [
    "# EXPLORING DATA "
   ]
  },
  {
   "cell_type": "markdown",
   "id": "cc600fad-6c43-4808-bfbf-79a4280c97e5",
   "metadata": {},
   "source": [
    "### Shape, first values, types, value counts, columns  "
   ]
  },
  {
   "cell_type": "code",
   "execution_count": 4,
   "id": "d4671de1-f918-49c6-9253-bb2effd89ac0",
   "metadata": {
    "tags": []
   },
   "outputs": [
    {
     "name": "stdout",
     "output_type": "stream",
     "text": [
      "DATA SHAPE = (31610, 32)\n",
      "\n",
      "FIRST VALUES\n"
     ]
    },
    {
     "data": {
      "text/html": [
       "<div>\n",
       "<style scoped>\n",
       "    .dataframe tbody tr th:only-of-type {\n",
       "        vertical-align: middle;\n",
       "    }\n",
       "\n",
       "    .dataframe tbody tr th {\n",
       "        vertical-align: top;\n",
       "    }\n",
       "\n",
       "    .dataframe thead th {\n",
       "        text-align: right;\n",
       "    }\n",
       "</style>\n",
       "<table border=\"1\" class=\"dataframe\">\n",
       "  <thead>\n",
       "    <tr style=\"text-align: right;\">\n",
       "      <th></th>\n",
       "      <th>ELEM_POINT_ID</th>\n",
       "      <th>CODE</th>\n",
       "      <th>NOM</th>\n",
       "      <th>GENRE</th>\n",
       "      <th>GENRE_DESC</th>\n",
       "      <th>CATEGORIE</th>\n",
       "      <th>CATEGORIE_DESC</th>\n",
       "      <th>SOUS_CATEGORIE</th>\n",
       "      <th>SOUS_CATEGORIE_DESC</th>\n",
       "      <th>CODE_PARENT</th>\n",
       "      <th>CODE_PARENT_DESC</th>\n",
       "      <th>ADR_SECTEUR</th>\n",
       "      <th>BIEN_REFERENCE</th>\n",
       "      <th>GENRE_BOTA</th>\n",
       "      <th>ESPECE</th>\n",
       "      <th>VARIETE</th>\n",
       "      <th>STADEDEDEVELOPPEMENT</th>\n",
       "      <th>EQUIPE</th>\n",
       "      <th>REMARQUES</th>\n",
       "      <th>ANNEEDEPLANTATION</th>\n",
       "      <th>RAISONDEPLANTATION</th>\n",
       "      <th>TRAITEMENTCHENILLES</th>\n",
       "      <th>COURRIER</th>\n",
       "      <th>IDENTIFIANTPLU</th>\n",
       "      <th>TYPEIMPLANTATIONPLU</th>\n",
       "      <th>INTITULEPROTECTIONPLU</th>\n",
       "      <th>ANNEEABATTAGE</th>\n",
       "      <th>ESSOUCHEMENT</th>\n",
       "      <th>DIAMETREARBRE</th>\n",
       "      <th>CAUSEABATTAGE</th>\n",
       "      <th>COLLECTIVITE</th>\n",
       "      <th>GeoJSON</th>\n",
       "    </tr>\n",
       "  </thead>\n",
       "  <tbody>\n",
       "    <tr>\n",
       "      <th>22559</th>\n",
       "      <td>43882</td>\n",
       "      <td>ESP40241</td>\n",
       "      <td>ESP40241</td>\n",
       "      <td>VEG</td>\n",
       "      <td>VEGETATION</td>\n",
       "      <td>ESP01</td>\n",
       "      <td>Arbre</td>\n",
       "      <td>ESP174</td>\n",
       "      <td>Arbre d'espaces ouverts</td>\n",
       "      <td>ESP131</td>\n",
       "      <td>Pôle festif R L Jouhaux</td>\n",
       "      <td>5</td>\n",
       "      <td>AR40241</td>\n",
       "      <td>Gleditsia</td>\n",
       "      <td>triacanthos</td>\n",
       "      <td>Inermis</td>\n",
       "      <td>NaN</td>\n",
       "      <td>NaN</td>\n",
       "      <td>NaN</td>\n",
       "      <td>NaN</td>\n",
       "      <td>NaN</td>\n",
       "      <td>NaN</td>\n",
       "      <td>NaN</td>\n",
       "      <td>NaN</td>\n",
       "      <td>NaN</td>\n",
       "      <td>NaN</td>\n",
       "      <td>NaN</td>\n",
       "      <td>NaN</td>\n",
       "      <td>NaN</td>\n",
       "      <td>NaN</td>\n",
       "      <td>Grenoble Alpes Métropole</td>\n",
       "      <td>{\"type\":\"Point\",\"coordinates\":[5.7428447423877...</td>\n",
       "    </tr>\n",
       "    <tr>\n",
       "      <th>4102</th>\n",
       "      <td>4105</td>\n",
       "      <td>ESP3043</td>\n",
       "      <td>ESP3043</td>\n",
       "      <td>VEG</td>\n",
       "      <td>VEGETATION</td>\n",
       "      <td>ESP01</td>\n",
       "      <td>Arbre</td>\n",
       "      <td>ESP065</td>\n",
       "      <td>Arbre d'enceintes fermées</td>\n",
       "      <td>ESP955</td>\n",
       "      <td>Cimetière du Petit Sablon</td>\n",
       "      <td>2</td>\n",
       "      <td>AR3043</td>\n",
       "      <td>Liquidambar</td>\n",
       "      <td>styraciflua</td>\n",
       "      <td>NaN</td>\n",
       "      <td>Arbre adulte</td>\n",
       "      <td>NaN</td>\n",
       "      <td>NaN</td>\n",
       "      <td>1984.0</td>\n",
       "      <td>NaN</td>\n",
       "      <td>NaN</td>\n",
       "      <td>NaN</td>\n",
       "      <td>NaN</td>\n",
       "      <td>NaN</td>\n",
       "      <td>NaN</td>\n",
       "      <td>NaN</td>\n",
       "      <td>NaN</td>\n",
       "      <td>NaN</td>\n",
       "      <td>NaN</td>\n",
       "      <td>Ville de Grenoble</td>\n",
       "      <td>{\"type\":\"Point\",\"coordinates\":[5.7431625274082...</td>\n",
       "    </tr>\n",
       "    <tr>\n",
       "      <th>23419</th>\n",
       "      <td>36145</td>\n",
       "      <td>ESP36885</td>\n",
       "      <td>ESP36885</td>\n",
       "      <td>VEG</td>\n",
       "      <td>VEGETATION</td>\n",
       "      <td>ESP01</td>\n",
       "      <td>Arbre</td>\n",
       "      <td>ESP174</td>\n",
       "      <td>Arbre d'espaces ouverts</td>\n",
       "      <td>ESP738</td>\n",
       "      <td>Voie E O Cargo à J Perrot</td>\n",
       "      <td>4</td>\n",
       "      <td>AR36885</td>\n",
       "      <td>Amélanchier</td>\n",
       "      <td>canadensis</td>\n",
       "      <td>NaN</td>\n",
       "      <td>NaN</td>\n",
       "      <td>NaN</td>\n",
       "      <td>NaN</td>\n",
       "      <td>2016.0</td>\n",
       "      <td>Nouveau</td>\n",
       "      <td>NaN</td>\n",
       "      <td>NaN</td>\n",
       "      <td>NaN</td>\n",
       "      <td>NaN</td>\n",
       "      <td>NaN</td>\n",
       "      <td>NaN</td>\n",
       "      <td>NaN</td>\n",
       "      <td>NaN</td>\n",
       "      <td>NaN</td>\n",
       "      <td>Grenoble Alpes Métropole</td>\n",
       "      <td>{\"type\":\"Point\",\"coordinates\":[5.7348493669369...</td>\n",
       "    </tr>\n",
       "    <tr>\n",
       "      <th>12748</th>\n",
       "      <td>28422</td>\n",
       "      <td>ESP14403</td>\n",
       "      <td>ESP14403</td>\n",
       "      <td>VEG</td>\n",
       "      <td>VEGETATION</td>\n",
       "      <td>ESP01</td>\n",
       "      <td>Arbre</td>\n",
       "      <td>ESP151</td>\n",
       "      <td>Arbre de voirie</td>\n",
       "      <td>ESP1022</td>\n",
       "      <td>R Marquian MIN</td>\n",
       "      <td>4</td>\n",
       "      <td>AR14403</td>\n",
       "      <td>Platanus</td>\n",
       "      <td>acerifolia</td>\n",
       "      <td>NaN</td>\n",
       "      <td>Arbre adulte</td>\n",
       "      <td>NaN</td>\n",
       "      <td>NaN</td>\n",
       "      <td>1979.0</td>\n",
       "      <td>NaN</td>\n",
       "      <td>NaN</td>\n",
       "      <td>NaN</td>\n",
       "      <td>NaN</td>\n",
       "      <td>NaN</td>\n",
       "      <td>NaN</td>\n",
       "      <td>NaN</td>\n",
       "      <td>NaN</td>\n",
       "      <td>NaN</td>\n",
       "      <td>NaN</td>\n",
       "      <td>Grenoble Alpes Métropole</td>\n",
       "      <td>{\"type\":\"Point\",\"coordinates\":[5.7182939721479...</td>\n",
       "    </tr>\n",
       "    <tr>\n",
       "      <th>10238</th>\n",
       "      <td>2163</td>\n",
       "      <td>ESP9908</td>\n",
       "      <td>ESP9908</td>\n",
       "      <td>VEG</td>\n",
       "      <td>VEGETATION</td>\n",
       "      <td>ESP01</td>\n",
       "      <td>Arbre</td>\n",
       "      <td>ESP151</td>\n",
       "      <td>Arbre de voirie</td>\n",
       "      <td>ESP886</td>\n",
       "      <td>R Lebrix ang L Lagrange</td>\n",
       "      <td>4</td>\n",
       "      <td>AR9908</td>\n",
       "      <td>Acer</td>\n",
       "      <td>pseudoplatanus</td>\n",
       "      <td>NaN</td>\n",
       "      <td>Arbre adulte</td>\n",
       "      <td>NaN</td>\n",
       "      <td>NaN</td>\n",
       "      <td>1974.0</td>\n",
       "      <td>NaN</td>\n",
       "      <td>NaN</td>\n",
       "      <td>NaN</td>\n",
       "      <td>NaN</td>\n",
       "      <td>NaN</td>\n",
       "      <td>NaN</td>\n",
       "      <td>NaN</td>\n",
       "      <td>NaN</td>\n",
       "      <td>NaN</td>\n",
       "      <td>NaN</td>\n",
       "      <td>Grenoble Alpes Métropole</td>\n",
       "      <td>{\"type\":\"Point\",\"coordinates\":[5.7206903590007...</td>\n",
       "    </tr>\n",
       "  </tbody>\n",
       "</table>\n",
       "</div>"
      ],
      "text/plain": [
       "       ELEM_POINT_ID      CODE       NOM GENRE  GENRE_DESC CATEGORIE  \\\n",
       "22559          43882  ESP40241  ESP40241   VEG  VEGETATION     ESP01   \n",
       "4102            4105   ESP3043   ESP3043   VEG  VEGETATION     ESP01   \n",
       "23419          36145  ESP36885  ESP36885   VEG  VEGETATION     ESP01   \n",
       "12748          28422  ESP14403  ESP14403   VEG  VEGETATION     ESP01   \n",
       "10238           2163   ESP9908   ESP9908   VEG  VEGETATION     ESP01   \n",
       "\n",
       "      CATEGORIE_DESC SOUS_CATEGORIE        SOUS_CATEGORIE_DESC CODE_PARENT  \\\n",
       "22559          Arbre         ESP174    Arbre d'espaces ouverts      ESP131   \n",
       "4102           Arbre         ESP065  Arbre d'enceintes fermées      ESP955   \n",
       "23419          Arbre         ESP174    Arbre d'espaces ouverts      ESP738   \n",
       "12748          Arbre         ESP151            Arbre de voirie     ESP1022   \n",
       "10238          Arbre         ESP151            Arbre de voirie      ESP886   \n",
       "\n",
       "                CODE_PARENT_DESC  ADR_SECTEUR BIEN_REFERENCE   GENRE_BOTA  \\\n",
       "22559    Pôle festif R L Jouhaux            5        AR40241    Gleditsia   \n",
       "4102   Cimetière du Petit Sablon            2         AR3043  Liquidambar   \n",
       "23419  Voie E O Cargo à J Perrot            4        AR36885  Amélanchier   \n",
       "12748             R Marquian MIN            4        AR14403     Platanus   \n",
       "10238    R Lebrix ang L Lagrange            4         AR9908         Acer   \n",
       "\n",
       "               ESPECE  VARIETE STADEDEDEVELOPPEMENT  EQUIPE REMARQUES  \\\n",
       "22559     triacanthos  Inermis                  NaN     NaN       NaN   \n",
       "4102      styraciflua      NaN         Arbre adulte     NaN       NaN   \n",
       "23419      canadensis      NaN                  NaN     NaN       NaN   \n",
       "12748      acerifolia      NaN         Arbre adulte     NaN       NaN   \n",
       "10238  pseudoplatanus      NaN         Arbre adulte     NaN       NaN   \n",
       "\n",
       "       ANNEEDEPLANTATION RAISONDEPLANTATION TRAITEMENTCHENILLES  COURRIER  \\\n",
       "22559                NaN                NaN                 NaN       NaN   \n",
       "4102              1984.0                NaN                 NaN       NaN   \n",
       "23419             2016.0            Nouveau                 NaN       NaN   \n",
       "12748             1979.0                NaN                 NaN       NaN   \n",
       "10238             1974.0                NaN                 NaN       NaN   \n",
       "\n",
       "       IDENTIFIANTPLU TYPEIMPLANTATIONPLU INTITULEPROTECTIONPLU  \\\n",
       "22559             NaN                 NaN                   NaN   \n",
       "4102              NaN                 NaN                   NaN   \n",
       "23419             NaN                 NaN                   NaN   \n",
       "12748             NaN                 NaN                   NaN   \n",
       "10238             NaN                 NaN                   NaN   \n",
       "\n",
       "       ANNEEABATTAGE  ESSOUCHEMENT  DIAMETREARBRE  CAUSEABATTAGE  \\\n",
       "22559            NaN           NaN            NaN            NaN   \n",
       "4102             NaN           NaN            NaN            NaN   \n",
       "23419            NaN           NaN            NaN            NaN   \n",
       "12748            NaN           NaN            NaN            NaN   \n",
       "10238            NaN           NaN            NaN            NaN   \n",
       "\n",
       "                   COLLECTIVITE  \\\n",
       "22559  Grenoble Alpes Métropole   \n",
       "4102          Ville de Grenoble   \n",
       "23419  Grenoble Alpes Métropole   \n",
       "12748  Grenoble Alpes Métropole   \n",
       "10238  Grenoble Alpes Métropole   \n",
       "\n",
       "                                                 GeoJSON  \n",
       "22559  {\"type\":\"Point\",\"coordinates\":[5.7428447423877...  \n",
       "4102   {\"type\":\"Point\",\"coordinates\":[5.7431625274082...  \n",
       "23419  {\"type\":\"Point\",\"coordinates\":[5.7348493669369...  \n",
       "12748  {\"type\":\"Point\",\"coordinates\":[5.7182939721479...  \n",
       "10238  {\"type\":\"Point\",\"coordinates\":[5.7206903590007...  "
      ]
     },
     "metadata": {},
     "output_type": "display_data"
    },
    {
     "name": "stdout",
     "output_type": "stream",
     "text": [
      "\n",
      "Variable Types\n"
     ]
    },
    {
     "data": {
      "text/plain": [
       "ELEM_POINT_ID              int64\n",
       "CODE                      object\n",
       "NOM                       object\n",
       "GENRE                     object\n",
       "GENRE_DESC                object\n",
       "CATEGORIE                 object\n",
       "CATEGORIE_DESC            object\n",
       "SOUS_CATEGORIE            object\n",
       "SOUS_CATEGORIE_DESC       object\n",
       "CODE_PARENT               object\n",
       "CODE_PARENT_DESC          object\n",
       "ADR_SECTEUR                int64\n",
       "BIEN_REFERENCE            object\n",
       "GENRE_BOTA                object\n",
       "ESPECE                    object\n",
       "VARIETE                   object\n",
       "STADEDEDEVELOPPEMENT      object\n",
       "EQUIPE                   float64\n",
       "REMARQUES                 object\n",
       "ANNEEDEPLANTATION        float64\n",
       "RAISONDEPLANTATION        object\n",
       "TRAITEMENTCHENILLES       object\n",
       "COURRIER                 float64\n",
       "IDENTIFIANTPLU           float64\n",
       "TYPEIMPLANTATIONPLU       object\n",
       "INTITULEPROTECTIONPLU     object\n",
       "ANNEEABATTAGE            float64\n",
       "ESSOUCHEMENT             float64\n",
       "DIAMETREARBRE            float64\n",
       "CAUSEABATTAGE            float64\n",
       "COLLECTIVITE              object\n",
       "GeoJSON                   object\n",
       "dtype: object"
      ]
     },
     "metadata": {},
     "output_type": "display_data"
    },
    {
     "name": "stdout",
     "output_type": "stream",
     "text": [
      "\n",
      "number of data per variable type\n"
     ]
    },
    {
     "data": {
      "text/plain": [
       "object     22\n",
       "float64     8\n",
       "int64       2\n",
       "dtype: int64"
      ]
     },
     "metadata": {},
     "output_type": "display_data"
    },
    {
     "name": "stdout",
     "output_type": "stream",
     "text": [
      "\n",
      "COLUMN NAMES\n"
     ]
    },
    {
     "data": {
      "text/plain": [
       "Index(['ELEM_POINT_ID', 'CODE', 'NOM', 'GENRE', 'GENRE_DESC', 'CATEGORIE',\n",
       "       'CATEGORIE_DESC', 'SOUS_CATEGORIE', 'SOUS_CATEGORIE_DESC',\n",
       "       'CODE_PARENT', 'CODE_PARENT_DESC', 'ADR_SECTEUR', 'BIEN_REFERENCE',\n",
       "       'GENRE_BOTA', 'ESPECE', 'VARIETE', 'STADEDEDEVELOPPEMENT', 'EQUIPE',\n",
       "       'REMARQUES', 'ANNEEDEPLANTATION', 'RAISONDEPLANTATION',\n",
       "       'TRAITEMENTCHENILLES', 'COURRIER', 'IDENTIFIANTPLU',\n",
       "       'TYPEIMPLANTATIONPLU', 'INTITULEPROTECTIONPLU', 'ANNEEABATTAGE',\n",
       "       'ESSOUCHEMENT', 'DIAMETREARBRE', 'CAUSEABATTAGE', 'COLLECTIVITE',\n",
       "       'GeoJSON'],\n",
       "      dtype='object')"
      ]
     },
     "metadata": {},
     "output_type": "display_data"
    },
    {
     "name": "stdout",
     "output_type": "stream",
     "text": [
      "\n"
     ]
    }
   ],
   "source": [
    "# Exploring data after removing missing values for 'ANNEDEPLANTATION'\n",
    "\n",
    "# Data shape \n",
    "print(f'DATA SHAPE = {df_trees_origin.shape}')\n",
    "print(\"\")\n",
    "\n",
    "# Display first rows \n",
    "print('FIRST VALUES')\n",
    "display(df_trees_origin.sample(5))\n",
    "print(\"\")\n",
    "\n",
    "# variable types \n",
    "print('Variable Types')\n",
    "display(df_trees_origin.dtypes)\n",
    "print(\"\")\n",
    "\n",
    "# number of data per variable type \n",
    "print('number of data per variable type')\n",
    "display(df_trees_origin.dtypes.value_counts())\n",
    "print(\"\")\n",
    "\n",
    "# Column names\n",
    "print('COLUMN NAMES')\n",
    "display(df_trees_origin.columns)\n",
    "print(\"\")"
   ]
  },
  {
   "cell_type": "markdown",
   "id": "f2b7226b-88f4-4f76-82bb-c1799a21574b",
   "metadata": {
    "tags": []
   },
   "source": [
    "### Descriptive stats"
   ]
  },
  {
   "cell_type": "code",
   "execution_count": 5,
   "id": "50101dc6-aff8-4ad2-b0c5-36075785f39d",
   "metadata": {},
   "outputs": [
    {
     "name": "stdout",
     "output_type": "stream",
     "text": [
      "DESCRIPTIVE STATS\n"
     ]
    },
    {
     "data": {
      "text/html": [
       "<div>\n",
       "<style scoped>\n",
       "    .dataframe tbody tr th:only-of-type {\n",
       "        vertical-align: middle;\n",
       "    }\n",
       "\n",
       "    .dataframe tbody tr th {\n",
       "        vertical-align: top;\n",
       "    }\n",
       "\n",
       "    .dataframe thead th {\n",
       "        text-align: right;\n",
       "    }\n",
       "</style>\n",
       "<table border=\"1\" class=\"dataframe\">\n",
       "  <thead>\n",
       "    <tr style=\"text-align: right;\">\n",
       "      <th></th>\n",
       "      <th>ELEM_POINT_ID</th>\n",
       "      <th>CODE</th>\n",
       "      <th>NOM</th>\n",
       "      <th>GENRE</th>\n",
       "      <th>GENRE_DESC</th>\n",
       "      <th>CATEGORIE</th>\n",
       "      <th>CATEGORIE_DESC</th>\n",
       "      <th>SOUS_CATEGORIE</th>\n",
       "      <th>SOUS_CATEGORIE_DESC</th>\n",
       "      <th>CODE_PARENT</th>\n",
       "      <th>CODE_PARENT_DESC</th>\n",
       "      <th>ADR_SECTEUR</th>\n",
       "      <th>BIEN_REFERENCE</th>\n",
       "      <th>GENRE_BOTA</th>\n",
       "      <th>ESPECE</th>\n",
       "      <th>VARIETE</th>\n",
       "      <th>STADEDEDEVELOPPEMENT</th>\n",
       "      <th>EQUIPE</th>\n",
       "      <th>REMARQUES</th>\n",
       "      <th>ANNEEDEPLANTATION</th>\n",
       "      <th>RAISONDEPLANTATION</th>\n",
       "      <th>TRAITEMENTCHENILLES</th>\n",
       "      <th>COURRIER</th>\n",
       "      <th>IDENTIFIANTPLU</th>\n",
       "      <th>TYPEIMPLANTATIONPLU</th>\n",
       "      <th>INTITULEPROTECTIONPLU</th>\n",
       "      <th>ANNEEABATTAGE</th>\n",
       "      <th>ESSOUCHEMENT</th>\n",
       "      <th>DIAMETREARBRE</th>\n",
       "      <th>CAUSEABATTAGE</th>\n",
       "      <th>COLLECTIVITE</th>\n",
       "      <th>GeoJSON</th>\n",
       "    </tr>\n",
       "  </thead>\n",
       "  <tbody>\n",
       "    <tr>\n",
       "      <th>count</th>\n",
       "      <td>31610.000000</td>\n",
       "      <td>31610</td>\n",
       "      <td>31610</td>\n",
       "      <td>31610</td>\n",
       "      <td>31610</td>\n",
       "      <td>31610</td>\n",
       "      <td>31610</td>\n",
       "      <td>31610</td>\n",
       "      <td>31610</td>\n",
       "      <td>31610</td>\n",
       "      <td>31610</td>\n",
       "      <td>31610.000000</td>\n",
       "      <td>31610</td>\n",
       "      <td>30818</td>\n",
       "      <td>29146</td>\n",
       "      <td>4569</td>\n",
       "      <td>28408</td>\n",
       "      <td>0.0</td>\n",
       "      <td>5307</td>\n",
       "      <td>30258.000000</td>\n",
       "      <td>3260</td>\n",
       "      <td>2138</td>\n",
       "      <td>0.0</td>\n",
       "      <td>600.000000</td>\n",
       "      <td>600</td>\n",
       "      <td>600</td>\n",
       "      <td>0.0</td>\n",
       "      <td>0.0</td>\n",
       "      <td>0.0</td>\n",
       "      <td>0.0</td>\n",
       "      <td>31139</td>\n",
       "      <td>31610</td>\n",
       "    </tr>\n",
       "    <tr>\n",
       "      <th>unique</th>\n",
       "      <td>NaN</td>\n",
       "      <td>31610</td>\n",
       "      <td>31610</td>\n",
       "      <td>1</td>\n",
       "      <td>1</td>\n",
       "      <td>1</td>\n",
       "      <td>1</td>\n",
       "      <td>4</td>\n",
       "      <td>4</td>\n",
       "      <td>1468</td>\n",
       "      <td>1468</td>\n",
       "      <td>NaN</td>\n",
       "      <td>31610</td>\n",
       "      <td>118</td>\n",
       "      <td>280</td>\n",
       "      <td>217</td>\n",
       "      <td>3</td>\n",
       "      <td>NaN</td>\n",
       "      <td>3021</td>\n",
       "      <td>NaN</td>\n",
       "      <td>3</td>\n",
       "      <td>3</td>\n",
       "      <td>NaN</td>\n",
       "      <td>NaN</td>\n",
       "      <td>4</td>\n",
       "      <td>3</td>\n",
       "      <td>NaN</td>\n",
       "      <td>NaN</td>\n",
       "      <td>NaN</td>\n",
       "      <td>NaN</td>\n",
       "      <td>2</td>\n",
       "      <td>31610</td>\n",
       "    </tr>\n",
       "    <tr>\n",
       "      <th>top</th>\n",
       "      <td>NaN</td>\n",
       "      <td>ESP29533</td>\n",
       "      <td>ESP29533</td>\n",
       "      <td>VEG</td>\n",
       "      <td>VEGETATION</td>\n",
       "      <td>ESP01</td>\n",
       "      <td>Arbre</td>\n",
       "      <td>ESP174</td>\n",
       "      <td>Arbre d'espaces ouverts</td>\n",
       "      <td>ESP995</td>\n",
       "      <td>Prc Echangeurs Bastion St Roch</td>\n",
       "      <td>NaN</td>\n",
       "      <td>AR29533</td>\n",
       "      <td>Acer</td>\n",
       "      <td>acerifolia</td>\n",
       "      <td>Austriaca</td>\n",
       "      <td>Arbre adulte</td>\n",
       "      <td>NaN</td>\n",
       "      <td>Lierre</td>\n",
       "      <td>NaN</td>\n",
       "      <td>Nouveau</td>\n",
       "      <td>Haute</td>\n",
       "      <td>NaN</td>\n",
       "      <td>NaN</td>\n",
       "      <td>Alignement</td>\n",
       "      <td>L 123-1.7</td>\n",
       "      <td>NaN</td>\n",
       "      <td>NaN</td>\n",
       "      <td>NaN</td>\n",
       "      <td>NaN</td>\n",
       "      <td>Ville de Grenoble</td>\n",
       "      <td>{\"type\":\"Point\",\"coordinates\":[5.7330521059871...</td>\n",
       "    </tr>\n",
       "    <tr>\n",
       "      <th>freq</th>\n",
       "      <td>NaN</td>\n",
       "      <td>1</td>\n",
       "      <td>1</td>\n",
       "      <td>31610</td>\n",
       "      <td>31610</td>\n",
       "      <td>31610</td>\n",
       "      <td>31610</td>\n",
       "      <td>15288</td>\n",
       "      <td>15288</td>\n",
       "      <td>391</td>\n",
       "      <td>391</td>\n",
       "      <td>NaN</td>\n",
       "      <td>1</td>\n",
       "      <td>5091</td>\n",
       "      <td>3789</td>\n",
       "      <td>1121</td>\n",
       "      <td>21579</td>\n",
       "      <td>NaN</td>\n",
       "      <td>165</td>\n",
       "      <td>NaN</td>\n",
       "      <td>2860</td>\n",
       "      <td>1130</td>\n",
       "      <td>NaN</td>\n",
       "      <td>NaN</td>\n",
       "      <td>462</td>\n",
       "      <td>436</td>\n",
       "      <td>NaN</td>\n",
       "      <td>NaN</td>\n",
       "      <td>NaN</td>\n",
       "      <td>NaN</td>\n",
       "      <td>16105</td>\n",
       "      <td>1</td>\n",
       "    </tr>\n",
       "    <tr>\n",
       "      <th>mean</th>\n",
       "      <td>19946.769630</td>\n",
       "      <td>NaN</td>\n",
       "      <td>NaN</td>\n",
       "      <td>NaN</td>\n",
       "      <td>NaN</td>\n",
       "      <td>NaN</td>\n",
       "      <td>NaN</td>\n",
       "      <td>NaN</td>\n",
       "      <td>NaN</td>\n",
       "      <td>NaN</td>\n",
       "      <td>NaN</td>\n",
       "      <td>3.836982</td>\n",
       "      <td>NaN</td>\n",
       "      <td>NaN</td>\n",
       "      <td>NaN</td>\n",
       "      <td>NaN</td>\n",
       "      <td>NaN</td>\n",
       "      <td>NaN</td>\n",
       "      <td>NaN</td>\n",
       "      <td>1989.682563</td>\n",
       "      <td>NaN</td>\n",
       "      <td>NaN</td>\n",
       "      <td>NaN</td>\n",
       "      <td>87.856667</td>\n",
       "      <td>NaN</td>\n",
       "      <td>NaN</td>\n",
       "      <td>NaN</td>\n",
       "      <td>NaN</td>\n",
       "      <td>NaN</td>\n",
       "      <td>NaN</td>\n",
       "      <td>NaN</td>\n",
       "      <td>NaN</td>\n",
       "    </tr>\n",
       "    <tr>\n",
       "      <th>std</th>\n",
       "      <td>12384.176995</td>\n",
       "      <td>NaN</td>\n",
       "      <td>NaN</td>\n",
       "      <td>NaN</td>\n",
       "      <td>NaN</td>\n",
       "      <td>NaN</td>\n",
       "      <td>NaN</td>\n",
       "      <td>NaN</td>\n",
       "      <td>NaN</td>\n",
       "      <td>NaN</td>\n",
       "      <td>NaN</td>\n",
       "      <td>1.717947</td>\n",
       "      <td>NaN</td>\n",
       "      <td>NaN</td>\n",
       "      <td>NaN</td>\n",
       "      <td>NaN</td>\n",
       "      <td>NaN</td>\n",
       "      <td>NaN</td>\n",
       "      <td>NaN</td>\n",
       "      <td>17.872479</td>\n",
       "      <td>NaN</td>\n",
       "      <td>NaN</td>\n",
       "      <td>NaN</td>\n",
       "      <td>60.657935</td>\n",
       "      <td>NaN</td>\n",
       "      <td>NaN</td>\n",
       "      <td>NaN</td>\n",
       "      <td>NaN</td>\n",
       "      <td>NaN</td>\n",
       "      <td>NaN</td>\n",
       "      <td>NaN</td>\n",
       "      <td>NaN</td>\n",
       "    </tr>\n",
       "    <tr>\n",
       "      <th>min</th>\n",
       "      <td>1.000000</td>\n",
       "      <td>NaN</td>\n",
       "      <td>NaN</td>\n",
       "      <td>NaN</td>\n",
       "      <td>NaN</td>\n",
       "      <td>NaN</td>\n",
       "      <td>NaN</td>\n",
       "      <td>NaN</td>\n",
       "      <td>NaN</td>\n",
       "      <td>NaN</td>\n",
       "      <td>NaN</td>\n",
       "      <td>1.000000</td>\n",
       "      <td>NaN</td>\n",
       "      <td>NaN</td>\n",
       "      <td>NaN</td>\n",
       "      <td>NaN</td>\n",
       "      <td>NaN</td>\n",
       "      <td>NaN</td>\n",
       "      <td>NaN</td>\n",
       "      <td>1900.000000</td>\n",
       "      <td>NaN</td>\n",
       "      <td>NaN</td>\n",
       "      <td>NaN</td>\n",
       "      <td>2.000000</td>\n",
       "      <td>NaN</td>\n",
       "      <td>NaN</td>\n",
       "      <td>NaN</td>\n",
       "      <td>NaN</td>\n",
       "      <td>NaN</td>\n",
       "      <td>NaN</td>\n",
       "      <td>NaN</td>\n",
       "      <td>NaN</td>\n",
       "    </tr>\n",
       "    <tr>\n",
       "      <th>25%</th>\n",
       "      <td>9514.250000</td>\n",
       "      <td>NaN</td>\n",
       "      <td>NaN</td>\n",
       "      <td>NaN</td>\n",
       "      <td>NaN</td>\n",
       "      <td>NaN</td>\n",
       "      <td>NaN</td>\n",
       "      <td>NaN</td>\n",
       "      <td>NaN</td>\n",
       "      <td>NaN</td>\n",
       "      <td>NaN</td>\n",
       "      <td>2.000000</td>\n",
       "      <td>NaN</td>\n",
       "      <td>NaN</td>\n",
       "      <td>NaN</td>\n",
       "      <td>NaN</td>\n",
       "      <td>NaN</td>\n",
       "      <td>NaN</td>\n",
       "      <td>NaN</td>\n",
       "      <td>1975.000000</td>\n",
       "      <td>NaN</td>\n",
       "      <td>NaN</td>\n",
       "      <td>NaN</td>\n",
       "      <td>67.000000</td>\n",
       "      <td>NaN</td>\n",
       "      <td>NaN</td>\n",
       "      <td>NaN</td>\n",
       "      <td>NaN</td>\n",
       "      <td>NaN</td>\n",
       "      <td>NaN</td>\n",
       "      <td>NaN</td>\n",
       "      <td>NaN</td>\n",
       "    </tr>\n",
       "    <tr>\n",
       "      <th>50%</th>\n",
       "      <td>19118.500000</td>\n",
       "      <td>NaN</td>\n",
       "      <td>NaN</td>\n",
       "      <td>NaN</td>\n",
       "      <td>NaN</td>\n",
       "      <td>NaN</td>\n",
       "      <td>NaN</td>\n",
       "      <td>NaN</td>\n",
       "      <td>NaN</td>\n",
       "      <td>NaN</td>\n",
       "      <td>NaN</td>\n",
       "      <td>4.000000</td>\n",
       "      <td>NaN</td>\n",
       "      <td>NaN</td>\n",
       "      <td>NaN</td>\n",
       "      <td>NaN</td>\n",
       "      <td>NaN</td>\n",
       "      <td>NaN</td>\n",
       "      <td>NaN</td>\n",
       "      <td>1986.000000</td>\n",
       "      <td>NaN</td>\n",
       "      <td>NaN</td>\n",
       "      <td>NaN</td>\n",
       "      <td>70.000000</td>\n",
       "      <td>NaN</td>\n",
       "      <td>NaN</td>\n",
       "      <td>NaN</td>\n",
       "      <td>NaN</td>\n",
       "      <td>NaN</td>\n",
       "      <td>NaN</td>\n",
       "      <td>NaN</td>\n",
       "      <td>NaN</td>\n",
       "    </tr>\n",
       "    <tr>\n",
       "      <th>75%</th>\n",
       "      <td>28762.750000</td>\n",
       "      <td>NaN</td>\n",
       "      <td>NaN</td>\n",
       "      <td>NaN</td>\n",
       "      <td>NaN</td>\n",
       "      <td>NaN</td>\n",
       "      <td>NaN</td>\n",
       "      <td>NaN</td>\n",
       "      <td>NaN</td>\n",
       "      <td>NaN</td>\n",
       "      <td>NaN</td>\n",
       "      <td>5.000000</td>\n",
       "      <td>NaN</td>\n",
       "      <td>NaN</td>\n",
       "      <td>NaN</td>\n",
       "      <td>NaN</td>\n",
       "      <td>NaN</td>\n",
       "      <td>NaN</td>\n",
       "      <td>NaN</td>\n",
       "      <td>2005.000000</td>\n",
       "      <td>NaN</td>\n",
       "      <td>NaN</td>\n",
       "      <td>NaN</td>\n",
       "      <td>70.000000</td>\n",
       "      <td>NaN</td>\n",
       "      <td>NaN</td>\n",
       "      <td>NaN</td>\n",
       "      <td>NaN</td>\n",
       "      <td>NaN</td>\n",
       "      <td>NaN</td>\n",
       "      <td>NaN</td>\n",
       "      <td>NaN</td>\n",
       "    </tr>\n",
       "    <tr>\n",
       "      <th>max</th>\n",
       "      <td>46070.000000</td>\n",
       "      <td>NaN</td>\n",
       "      <td>NaN</td>\n",
       "      <td>NaN</td>\n",
       "      <td>NaN</td>\n",
       "      <td>NaN</td>\n",
       "      <td>NaN</td>\n",
       "      <td>NaN</td>\n",
       "      <td>NaN</td>\n",
       "      <td>NaN</td>\n",
       "      <td>NaN</td>\n",
       "      <td>6.000000</td>\n",
       "      <td>NaN</td>\n",
       "      <td>NaN</td>\n",
       "      <td>NaN</td>\n",
       "      <td>NaN</td>\n",
       "      <td>NaN</td>\n",
       "      <td>NaN</td>\n",
       "      <td>NaN</td>\n",
       "      <td>2021.000000</td>\n",
       "      <td>NaN</td>\n",
       "      <td>NaN</td>\n",
       "      <td>NaN</td>\n",
       "      <td>358.000000</td>\n",
       "      <td>NaN</td>\n",
       "      <td>NaN</td>\n",
       "      <td>NaN</td>\n",
       "      <td>NaN</td>\n",
       "      <td>NaN</td>\n",
       "      <td>NaN</td>\n",
       "      <td>NaN</td>\n",
       "      <td>NaN</td>\n",
       "    </tr>\n",
       "  </tbody>\n",
       "</table>\n",
       "</div>"
      ],
      "text/plain": [
       "        ELEM_POINT_ID      CODE       NOM  GENRE  GENRE_DESC CATEGORIE  \\\n",
       "count    31610.000000     31610     31610  31610       31610     31610   \n",
       "unique            NaN     31610     31610      1           1         1   \n",
       "top               NaN  ESP29533  ESP29533    VEG  VEGETATION     ESP01   \n",
       "freq              NaN         1         1  31610       31610     31610   \n",
       "mean     19946.769630       NaN       NaN    NaN         NaN       NaN   \n",
       "std      12384.176995       NaN       NaN    NaN         NaN       NaN   \n",
       "min          1.000000       NaN       NaN    NaN         NaN       NaN   \n",
       "25%       9514.250000       NaN       NaN    NaN         NaN       NaN   \n",
       "50%      19118.500000       NaN       NaN    NaN         NaN       NaN   \n",
       "75%      28762.750000       NaN       NaN    NaN         NaN       NaN   \n",
       "max      46070.000000       NaN       NaN    NaN         NaN       NaN   \n",
       "\n",
       "       CATEGORIE_DESC SOUS_CATEGORIE      SOUS_CATEGORIE_DESC CODE_PARENT  \\\n",
       "count           31610          31610                    31610       31610   \n",
       "unique              1              4                        4        1468   \n",
       "top             Arbre         ESP174  Arbre d'espaces ouverts      ESP995   \n",
       "freq            31610          15288                    15288         391   \n",
       "mean              NaN            NaN                      NaN         NaN   \n",
       "std               NaN            NaN                      NaN         NaN   \n",
       "min               NaN            NaN                      NaN         NaN   \n",
       "25%               NaN            NaN                      NaN         NaN   \n",
       "50%               NaN            NaN                      NaN         NaN   \n",
       "75%               NaN            NaN                      NaN         NaN   \n",
       "max               NaN            NaN                      NaN         NaN   \n",
       "\n",
       "                      CODE_PARENT_DESC   ADR_SECTEUR BIEN_REFERENCE  \\\n",
       "count                            31610  31610.000000          31610   \n",
       "unique                            1468           NaN          31610   \n",
       "top     Prc Echangeurs Bastion St Roch           NaN        AR29533   \n",
       "freq                               391           NaN              1   \n",
       "mean                               NaN      3.836982            NaN   \n",
       "std                                NaN      1.717947            NaN   \n",
       "min                                NaN      1.000000            NaN   \n",
       "25%                                NaN      2.000000            NaN   \n",
       "50%                                NaN      4.000000            NaN   \n",
       "75%                                NaN      5.000000            NaN   \n",
       "max                                NaN      6.000000            NaN   \n",
       "\n",
       "       GENRE_BOTA      ESPECE    VARIETE STADEDEDEVELOPPEMENT  EQUIPE  \\\n",
       "count       30818       29146       4569                28408     0.0   \n",
       "unique        118         280        217                    3     NaN   \n",
       "top          Acer  acerifolia  Austriaca         Arbre adulte     NaN   \n",
       "freq         5091        3789       1121                21579     NaN   \n",
       "mean          NaN         NaN        NaN                  NaN     NaN   \n",
       "std           NaN         NaN        NaN                  NaN     NaN   \n",
       "min           NaN         NaN        NaN                  NaN     NaN   \n",
       "25%           NaN         NaN        NaN                  NaN     NaN   \n",
       "50%           NaN         NaN        NaN                  NaN     NaN   \n",
       "75%           NaN         NaN        NaN                  NaN     NaN   \n",
       "max           NaN         NaN        NaN                  NaN     NaN   \n",
       "\n",
       "       REMARQUES  ANNEEDEPLANTATION RAISONDEPLANTATION TRAITEMENTCHENILLES  \\\n",
       "count       5307       30258.000000               3260                2138   \n",
       "unique      3021                NaN                  3                   3   \n",
       "top       Lierre                NaN            Nouveau               Haute   \n",
       "freq         165                NaN               2860                1130   \n",
       "mean         NaN        1989.682563                NaN                 NaN   \n",
       "std          NaN          17.872479                NaN                 NaN   \n",
       "min          NaN        1900.000000                NaN                 NaN   \n",
       "25%          NaN        1975.000000                NaN                 NaN   \n",
       "50%          NaN        1986.000000                NaN                 NaN   \n",
       "75%          NaN        2005.000000                NaN                 NaN   \n",
       "max          NaN        2021.000000                NaN                 NaN   \n",
       "\n",
       "        COURRIER  IDENTIFIANTPLU TYPEIMPLANTATIONPLU INTITULEPROTECTIONPLU  \\\n",
       "count        0.0      600.000000                 600                   600   \n",
       "unique       NaN             NaN                   4                     3   \n",
       "top          NaN             NaN          Alignement             L 123-1.7   \n",
       "freq         NaN             NaN                 462                   436   \n",
       "mean         NaN       87.856667                 NaN                   NaN   \n",
       "std          NaN       60.657935                 NaN                   NaN   \n",
       "min          NaN        2.000000                 NaN                   NaN   \n",
       "25%          NaN       67.000000                 NaN                   NaN   \n",
       "50%          NaN       70.000000                 NaN                   NaN   \n",
       "75%          NaN       70.000000                 NaN                   NaN   \n",
       "max          NaN      358.000000                 NaN                   NaN   \n",
       "\n",
       "        ANNEEABATTAGE  ESSOUCHEMENT  DIAMETREARBRE  CAUSEABATTAGE  \\\n",
       "count             0.0           0.0            0.0            0.0   \n",
       "unique            NaN           NaN            NaN            NaN   \n",
       "top               NaN           NaN            NaN            NaN   \n",
       "freq              NaN           NaN            NaN            NaN   \n",
       "mean              NaN           NaN            NaN            NaN   \n",
       "std               NaN           NaN            NaN            NaN   \n",
       "min               NaN           NaN            NaN            NaN   \n",
       "25%               NaN           NaN            NaN            NaN   \n",
       "50%               NaN           NaN            NaN            NaN   \n",
       "75%               NaN           NaN            NaN            NaN   \n",
       "max               NaN           NaN            NaN            NaN   \n",
       "\n",
       "             COLLECTIVITE                                            GeoJSON  \n",
       "count               31139                                              31610  \n",
       "unique                  2                                              31610  \n",
       "top     Ville de Grenoble  {\"type\":\"Point\",\"coordinates\":[5.7330521059871...  \n",
       "freq                16105                                                  1  \n",
       "mean                  NaN                                                NaN  \n",
       "std                   NaN                                                NaN  \n",
       "min                   NaN                                                NaN  \n",
       "25%                   NaN                                                NaN  \n",
       "50%                   NaN                                                NaN  \n",
       "75%                   NaN                                                NaN  \n",
       "max                   NaN                                                NaN  "
      ]
     },
     "metadata": {},
     "output_type": "display_data"
    },
    {
     "name": "stdout",
     "output_type": "stream",
     "text": [
      "None\n"
     ]
    }
   ],
   "source": [
    "# Descriptive statistiques \n",
    "print('DESCRIPTIVE STATS')\n",
    "print(display(df_trees.describe(include=\"all\")))"
   ]
  },
  {
   "cell_type": "markdown",
   "id": "8a2b9910-4403-4a82-8018-0873f0e417dd",
   "metadata": {},
   "source": [
    "### Unique values "
   ]
  },
  {
   "cell_type": "code",
   "execution_count": 6,
   "id": "604a7e9f-fc20-45f7-a2e9-c4dd1c616044",
   "metadata": {},
   "outputs": [
    {
     "data": {
      "text/plain": [
       "ELEM_POINT_ID            31610\n",
       "CODE                     31610\n",
       "NOM                      31610\n",
       "GENRE                        1\n",
       "GENRE_DESC                   1\n",
       "CATEGORIE                    1\n",
       "CATEGORIE_DESC               1\n",
       "SOUS_CATEGORIE               4\n",
       "SOUS_CATEGORIE_DESC          4\n",
       "CODE_PARENT               1468\n",
       "CODE_PARENT_DESC          1468\n",
       "ADR_SECTEUR                  6\n",
       "BIEN_REFERENCE           31610\n",
       "GENRE_BOTA                 118\n",
       "ESPECE                     280\n",
       "VARIETE                    217\n",
       "STADEDEDEVELOPPEMENT         3\n",
       "EQUIPE                       0\n",
       "REMARQUES                 3021\n",
       "ANNEEDEPLANTATION           65\n",
       "RAISONDEPLANTATION           3\n",
       "TRAITEMENTCHENILLES          3\n",
       "COURRIER                     0\n",
       "IDENTIFIANTPLU              45\n",
       "TYPEIMPLANTATIONPLU          4\n",
       "INTITULEPROTECTIONPLU        3\n",
       "ANNEEABATTAGE                0\n",
       "ESSOUCHEMENT                 0\n",
       "DIAMETREARBRE                0\n",
       "CAUSEABATTAGE                0\n",
       "COLLECTIVITE                 2\n",
       "GeoJSON                  31610\n",
       "dtype: int64"
      ]
     },
     "execution_count": 6,
     "metadata": {},
     "output_type": "execute_result"
    }
   ],
   "source": [
    "df_trees.nunique()\n",
    "# delete if = 0 or 1 "
   ]
  },
  {
   "cell_type": "markdown",
   "id": "1ffb47a4-9d04-4e7f-9d8f-de18d2abd642",
   "metadata": {},
   "source": [
    "## DROPING UNIQUE VALUES "
   ]
  },
  {
   "cell_type": "code",
   "execution_count": 7,
   "id": "4807e5c6-5ea7-45a5-9f09-c764e4e01895",
   "metadata": {},
   "outputs": [
    {
     "name": "stdout",
     "output_type": "stream",
     "text": [
      "['GENRE', 'GENRE_DESC', 'CATEGORIE', 'CATEGORIE_DESC', 'EQUIPE', 'COURRIER', 'ANNEEABATTAGE', 'ESSOUCHEMENT', 'DIAMETREARBRE', 'CAUSEABATTAGE']\n"
     ]
    }
   ],
   "source": [
    "# deletaing columns <= 1 unique values  \n",
    "list_dropcol = []\n",
    "for i in df_trees.columns[df_trees.nunique()<=1]:\n",
    "    list_dropcol.append(i)\n",
    "\n",
    "# columns to drop list \n",
    "print(list_dropcol)\n",
    "\n",
    "# droping columns \n",
    "df_trees.drop(list_dropcol, axis=1, inplace=True)\n",
    "df_trees.drop(['ELEM_POINT_ID', 'CODE', 'NOM', 'BIEN_REFERENCE','CODE_PARENT', 'CODE_PARENT_DESC'], axis=1, inplace=True)"
   ]
  },
  {
   "cell_type": "markdown",
   "id": "056a4138-c479-4e06-a2d8-19794d5f3a5e",
   "metadata": {
    "tags": []
   },
   "source": [
    "### Missing values distribution "
   ]
  },
  {
   "cell_type": "code",
   "execution_count": 8,
   "id": "061cccd1-2ff2-4591-83fb-197bb29f30a0",
   "metadata": {},
   "outputs": [
    {
     "name": "stdout",
     "output_type": "stream",
     "text": [
      "number of missing values per varible\n",
      "SOUS_CATEGORIE               0\n",
      "SOUS_CATEGORIE_DESC          0\n",
      "ADR_SECTEUR                  0\n",
      "GENRE_BOTA                 792\n",
      "ESPECE                    2464\n",
      "VARIETE                  27041\n",
      "STADEDEDEVELOPPEMENT      3202\n",
      "REMARQUES                26303\n",
      "ANNEEDEPLANTATION         1352\n",
      "RAISONDEPLANTATION       28350\n",
      "TRAITEMENTCHENILLES      29472\n",
      "IDENTIFIANTPLU           31010\n",
      "TYPEIMPLANTATIONPLU      31010\n",
      "INTITULEPROTECTIONPLU    31010\n",
      "COLLECTIVITE               471\n",
      "GeoJSON                      0\n",
      "dtype: int64\n",
      "\n",
      "percentage of missing values per variable\n"
     ]
    },
    {
     "data": {
      "text/plain": [
       "SOUS_CATEGORIE           0.000000\n",
       "SOUS_CATEGORIE_DESC      0.000000\n",
       "ADR_SECTEUR              0.000000\n",
       "GeoJSON                  0.000000\n",
       "COLLECTIVITE             0.014900\n",
       "GENRE_BOTA               0.025055\n",
       "ANNEEDEPLANTATION        0.042771\n",
       "ESPECE                   0.077950\n",
       "STADEDEDEVELOPPEMENT     0.101297\n",
       "REMARQUES                0.832110\n",
       "VARIETE                  0.855457\n",
       "RAISONDEPLANTATION       0.896868\n",
       "TRAITEMENTCHENILLES      0.932363\n",
       "IDENTIFIANTPLU           0.981019\n",
       "TYPEIMPLANTATIONPLU      0.981019\n",
       "INTITULEPROTECTIONPLU    0.981019\n",
       "dtype: float64"
      ]
     },
     "execution_count": 8,
     "metadata": {},
     "output_type": "execute_result"
    }
   ],
   "source": [
    "# number of missing values per varible \n",
    "print('number of missing values per varible')\n",
    "print(df_trees.isna().sum())\n",
    "print(\"\")\n",
    "\n",
    "# percentage of missing values per variable\n",
    "print('percentage of missing values per variable')\n",
    "(df_trees.isna().sum()/len(df_trees)).sort_values()\n"
   ]
  },
  {
   "cell_type": "markdown",
   "id": "46570c96-8543-470a-ac40-5996ff410560",
   "metadata": {
    "tags": []
   },
   "source": [
    "## DROPING MISSING VALUES  "
   ]
  },
  {
   "cell_type": "code",
   "execution_count": 9,
   "id": "c3de3e06-75a6-45b3-ae3d-7115d2935bb8",
   "metadata": {
    "tags": []
   },
   "outputs": [
    {
     "data": {
      "text/plain": [
       "0"
      ]
     },
     "execution_count": 9,
     "metadata": {},
     "output_type": "execute_result"
    }
   ],
   "source": [
    "# deletaing columns with more than 80% of missing values  \n",
    "df_trees = df_trees[df_trees.columns[df_trees.isna().sum()/len(df_trees) < 0.8]]\n",
    "\n",
    "# deleting missing data for 'ANNEDEPLANTATION' = df_trees_clean1\n",
    "df_trees.dropna(subset=['ANNEEDEPLANTATION'], how='any', inplace=True)\n",
    "\n",
    "# varifying there is no missing values left \n",
    "df_trees['ANNEEDEPLANTATION'].isna().sum()"
   ]
  },
  {
   "cell_type": "markdown",
   "id": "b43c3f03-e0de-4a43-95d0-5d08dff7dc78",
   "metadata": {
    "tags": []
   },
   "source": [
    "### Missing values distribution (after droping missing values)"
   ]
  },
  {
   "cell_type": "code",
   "execution_count": 10,
   "id": "f3665aef-3ce5-4150-9e3b-4fa537ca6cc6",
   "metadata": {},
   "outputs": [
    {
     "name": "stdout",
     "output_type": "stream",
     "text": [
      "number of missing values per varible\n",
      "SOUS_CATEGORIE             0\n",
      "SOUS_CATEGORIE_DESC        0\n",
      "ADR_SECTEUR                0\n",
      "GENRE_BOTA                25\n",
      "ESPECE                  1518\n",
      "STADEDEDEVELOPPEMENT    2168\n",
      "ANNEEDEPLANTATION          0\n",
      "COLLECTIVITE               0\n",
      "GeoJSON                    0\n",
      "dtype: int64\n",
      "\n",
      "percentage of missing values per variable\n"
     ]
    },
    {
     "data": {
      "text/plain": [
       "SOUS_CATEGORIE          0.000000\n",
       "SOUS_CATEGORIE_DESC     0.000000\n",
       "ADR_SECTEUR             0.000000\n",
       "ANNEEDEPLANTATION       0.000000\n",
       "COLLECTIVITE            0.000000\n",
       "GeoJSON                 0.000000\n",
       "GENRE_BOTA              0.000826\n",
       "ESPECE                  0.050169\n",
       "STADEDEDEVELOPPEMENT    0.071650\n",
       "dtype: float64"
      ]
     },
     "execution_count": 10,
     "metadata": {},
     "output_type": "execute_result"
    }
   ],
   "source": [
    "# number of missing values per varible \n",
    "print('number of missing values per varible')\n",
    "print(df_trees.isna().sum())\n",
    "print(\"\")\n",
    "\n",
    "# percentage of missing values per variable\n",
    "print('percentage of missing values per variable')\n",
    "(df_trees.isna().sum()/len(df_trees)).sort_values()\n"
   ]
  },
  {
   "cell_type": "markdown",
   "id": "539b03a4-59ef-4ba8-a894-2f581f1e3595",
   "metadata": {},
   "source": [
    "### Tranforming json values "
   ]
  },
  {
   "cell_type": "code",
   "execution_count": 11,
   "id": "a8833a32-c8ce-4a73-9671-2a4d07a53c2f",
   "metadata": {},
   "outputs": [
    {
     "data": {
      "text/plain": [
       "0        {\"type\":\"Point\",\"coordinates\":[5.7330521059871...\n",
       "1        {\"type\":\"Point\",\"coordinates\":[5.7396645998576...\n",
       "2        {\"type\":\"Point\",\"coordinates\":[5.7393760050367...\n",
       "3        {\"type\":\"Point\",\"coordinates\":[5.7327578896097...\n",
       "4        {\"type\":\"Point\",\"coordinates\":[5.7101806683940...\n",
       "                               ...                        \n",
       "31605    {\"type\":\"Point\",\"coordinates\":[5.7362096829728...\n",
       "31606    {\"type\":\"Point\",\"coordinates\":[5.7355397923023...\n",
       "31607    {\"type\":\"Point\",\"coordinates\":[5.7353772851058...\n",
       "31608    {\"type\":\"Point\",\"coordinates\":[5.7242110392924...\n",
       "31609    {\"type\":\"Point\",\"coordinates\":[5.7242265914674...\n",
       "Name: GeoJSON, Length: 31610, dtype: object"
      ]
     },
     "execution_count": 11,
     "metadata": {},
     "output_type": "execute_result"
    }
   ],
   "source": [
    "# Displaying GeoJSON values \n",
    "df_trees_origin['GeoJSON']"
   ]
  },
  {
   "cell_type": "code",
   "execution_count": 12,
   "id": "75f59264-2eeb-4894-b8dd-4f717d61c896",
   "metadata": {},
   "outputs": [
    {
     "name": "stderr",
     "output_type": "stream",
     "text": [
      "C:\\Users\\Asus\\AppData\\Local\\Temp/ipykernel_6832/3084995350.py:3: FutureWarning: The default value of regex will change from True to False in a future version. In addition, single character regular expressions will *not* be treated as literal strings when regex=True.\n",
      "  df_trees['GeoJSON'] = df_trees['GeoJSON'].str.replace('{', '')\n",
      "C:\\Users\\Asus\\AppData\\Local\\Temp/ipykernel_6832/3084995350.py:4: FutureWarning: The default value of regex will change from True to False in a future version. In addition, single character regular expressions will *not* be treated as literal strings when regex=True.\n",
      "  df_trees['GeoJSON'] = df_trees['GeoJSON'].str.replace('}', '')\n",
      "C:\\Users\\Asus\\AppData\\Local\\Temp/ipykernel_6832/3084995350.py:5: FutureWarning: The default value of regex will change from True to False in a future version. In addition, single character regular expressions will *not* be treated as literal strings when regex=True.\n",
      "  df_trees['GeoJSON'] = df_trees['GeoJSON'].str.replace('[', '')\n",
      "C:\\Users\\Asus\\AppData\\Local\\Temp/ipykernel_6832/3084995350.py:6: FutureWarning: The default value of regex will change from True to False in a future version. In addition, single character regular expressions will *not* be treated as literal strings when regex=True.\n",
      "  df_trees['GeoJSON'] = df_trees['GeoJSON'].str.replace(']', '')\n"
     ]
    }
   ],
   "source": [
    "# Deleting str by \"emptiness\"\n",
    "df_trees['GeoJSON'] = df_trees['GeoJSON'].str.replace('\"type\":\"Point\",\"coordinates\":', '')\n",
    "df_trees['GeoJSON'] = df_trees['GeoJSON'].str.replace('{', '')\n",
    "df_trees['GeoJSON'] = df_trees['GeoJSON'].str.replace('}', '')\n",
    "df_trees['GeoJSON'] = df_trees['GeoJSON'].str.replace('[', '')\n",
    "df_trees['GeoJSON'] = df_trees['GeoJSON'].str.replace(']', '')"
   ]
  },
  {
   "cell_type": "code",
   "execution_count": 13,
   "id": "157431cc-218c-4ece-9f49-8d6ce8120e87",
   "metadata": {},
   "outputs": [
    {
     "data": {
      "text/plain": [
       "0         5.7330521059871,45.1608735989982\n",
       "1        5.73966459985762,45.1634631698258\n",
       "2        5.73937600503679,45.1637369067179\n",
       "3         5.7327578896097,45.1658272870551\n",
       "4         5.71018066839402,45.175195514648\n",
       "                       ...                \n",
       "31590    5.74383102064452,45.1788517586043\n",
       "31591    5.74393300051737,45.1788006933776\n",
       "31592    5.74383905307444,45.1787469369484\n",
       "31608    5.72421103929246,45.1920983813115\n",
       "31609    5.72422659146747,45.1920566916671\n",
       "Name: GeoJSON, Length: 30258, dtype: object"
      ]
     },
     "execution_count": 13,
     "metadata": {},
     "output_type": "execute_result"
    }
   ],
   "source": [
    "# Displaying transformed JSON values \n",
    "df_trees['GeoJSON']"
   ]
  },
  {
   "cell_type": "code",
   "execution_count": 14,
   "id": "ea88c24a-b0ee-491c-a26e-fc87af00d0f6",
   "metadata": {},
   "outputs": [
    {
     "data": {
      "text/html": [
       "<div>\n",
       "<style scoped>\n",
       "    .dataframe tbody tr th:only-of-type {\n",
       "        vertical-align: middle;\n",
       "    }\n",
       "\n",
       "    .dataframe tbody tr th {\n",
       "        vertical-align: top;\n",
       "    }\n",
       "\n",
       "    .dataframe thead th {\n",
       "        text-align: right;\n",
       "    }\n",
       "</style>\n",
       "<table border=\"1\" class=\"dataframe\">\n",
       "  <thead>\n",
       "    <tr style=\"text-align: right;\">\n",
       "      <th></th>\n",
       "      <th>Longitude</th>\n",
       "      <th>Latitude</th>\n",
       "    </tr>\n",
       "  </thead>\n",
       "  <tbody>\n",
       "    <tr>\n",
       "      <th>0</th>\n",
       "      <td>5.7330521059871</td>\n",
       "      <td>45.1608735989982</td>\n",
       "    </tr>\n",
       "    <tr>\n",
       "      <th>1</th>\n",
       "      <td>5.73966459985762</td>\n",
       "      <td>45.1634631698258</td>\n",
       "    </tr>\n",
       "    <tr>\n",
       "      <th>2</th>\n",
       "      <td>5.73937600503679</td>\n",
       "      <td>45.1637369067179</td>\n",
       "    </tr>\n",
       "    <tr>\n",
       "      <th>3</th>\n",
       "      <td>5.7327578896097</td>\n",
       "      <td>45.1658272870551</td>\n",
       "    </tr>\n",
       "    <tr>\n",
       "      <th>4</th>\n",
       "      <td>5.71018066839402</td>\n",
       "      <td>45.175195514648</td>\n",
       "    </tr>\n",
       "    <tr>\n",
       "      <th>...</th>\n",
       "      <td>...</td>\n",
       "      <td>...</td>\n",
       "    </tr>\n",
       "    <tr>\n",
       "      <th>31590</th>\n",
       "      <td>5.74383102064452</td>\n",
       "      <td>45.1788517586043</td>\n",
       "    </tr>\n",
       "    <tr>\n",
       "      <th>31591</th>\n",
       "      <td>5.74393300051737</td>\n",
       "      <td>45.1788006933776</td>\n",
       "    </tr>\n",
       "    <tr>\n",
       "      <th>31592</th>\n",
       "      <td>5.74383905307444</td>\n",
       "      <td>45.1787469369484</td>\n",
       "    </tr>\n",
       "    <tr>\n",
       "      <th>31608</th>\n",
       "      <td>5.72421103929246</td>\n",
       "      <td>45.1920983813115</td>\n",
       "    </tr>\n",
       "    <tr>\n",
       "      <th>31609</th>\n",
       "      <td>5.72422659146747</td>\n",
       "      <td>45.1920566916671</td>\n",
       "    </tr>\n",
       "  </tbody>\n",
       "</table>\n",
       "<p>30258 rows × 2 columns</p>\n",
       "</div>"
      ],
      "text/plain": [
       "              Longitude          Latitude\n",
       "0       5.7330521059871  45.1608735989982\n",
       "1      5.73966459985762  45.1634631698258\n",
       "2      5.73937600503679  45.1637369067179\n",
       "3       5.7327578896097  45.1658272870551\n",
       "4      5.71018066839402   45.175195514648\n",
       "...                 ...               ...\n",
       "31590  5.74383102064452  45.1788517586043\n",
       "31591  5.74393300051737  45.1788006933776\n",
       "31592  5.74383905307444  45.1787469369484\n",
       "31608  5.72421103929246  45.1920983813115\n",
       "31609  5.72422659146747  45.1920566916671\n",
       "\n",
       "[30258 rows x 2 columns]"
      ]
     },
     "execution_count": 14,
     "metadata": {},
     "output_type": "execute_result"
    }
   ],
   "source": [
    "# Spliting JSON values in two columns \n",
    "df_trees[['Longitude','Latitude']] = df_trees.GeoJSON.str.split(\",\", expand=True)\n",
    "df_trees[['Longitude','Latitude']]"
   ]
  },
  {
   "cell_type": "code",
   "execution_count": 15,
   "id": "d9e1e96e-dc3d-4039-b55f-053bb7866dbf",
   "metadata": {},
   "outputs": [],
   "source": [
    "# deleting GeoJSON column \n",
    "df_trees.drop(['GeoJSON'], axis=1, inplace=True)"
   ]
  },
  {
   "cell_type": "code",
   "execution_count": 16,
   "id": "9268ad20-77b4-4af4-9785-43382e29712d",
   "metadata": {},
   "outputs": [],
   "source": [
    "# Trnsforming str GeoJSON values to float\n",
    "df_trees[['Longitude','Latitude']] = df_trees[['Longitude','Latitude']].astype(float)"
   ]
  },
  {
   "cell_type": "markdown",
   "id": "45792f5e-e79c-4bf4-980d-32741df77068",
   "metadata": {},
   "source": [
    "## CREATING NEW COLUMNS"
   ]
  },
  {
   "cell_type": "code",
   "execution_count": 17,
   "id": "68a10726-fdd3-4ad2-bd48-016ec4389256",
   "metadata": {},
   "outputs": [],
   "source": [
    "# Creating GE(GENRE_BOTA + ESPECE) column \n",
    "df_trees['GE']=df_trees['GENRE_BOTA']+ \" \" + df_trees['ESPECE']"
   ]
  },
  {
   "cell_type": "code",
   "execution_count": 18,
   "id": "6f79595d-80d4-4334-9c71-5969397c21f0",
   "metadata": {},
   "outputs": [],
   "source": [
    "# deleting GENRE_BOTA and ESPECE columns \n",
    "df_trees.drop(['GENRE_BOTA','ESPECE'], axis=1, inplace=True)"
   ]
  },
  {
   "cell_type": "code",
   "execution_count": 19,
   "id": "ef8a733c-f5e5-4c71-8e6e-60471e6a33c7",
   "metadata": {},
   "outputs": [],
   "source": [
    "# list of invasive GE \n",
    "invasive=['Ailanthus altissima','Robinia pseudoacacia','Acer negundo']"
   ]
  },
  {
   "cell_type": "code",
   "execution_count": 20,
   "id": "b86db030-27c0-42f4-aea6-cca00f39d3d4",
   "metadata": {},
   "outputs": [
    {
     "data": {
      "text/plain": [
       "0        non_invasive\n",
       "1        non_invasive\n",
       "2        non_invasive\n",
       "3        non_invasive\n",
       "4        non_invasive\n",
       "             ...     \n",
       "31590    non_invasive\n",
       "31591    non_invasive\n",
       "31592    non_invasive\n",
       "31608    non_invasive\n",
       "31609    non_invasive\n",
       "Name: INVASIVE, Length: 30258, dtype: object"
      ]
     },
     "execution_count": 20,
     "metadata": {},
     "output_type": "execute_result"
    }
   ],
   "source": [
    "# Creating INVASIVE column  \n",
    "df_trees['INVASIVE'] = ['invasive' if x in invasive else 'non_invasive' for x in df_trees['GE']]\n",
    "df_trees['INVASIVE']"
   ]
  },
  {
   "cell_type": "code",
   "execution_count": 21,
   "id": "7ead5854-b5ae-462c-9526-86ff6369aa94",
   "metadata": {},
   "outputs": [
    {
     "name": "stdout",
     "output_type": "stream",
     "text": [
      "number of data per variable type\n"
     ]
    },
    {
     "data": {
      "text/plain": [
       "SOUS_CATEGORIE           object\n",
       "SOUS_CATEGORIE_DESC      object\n",
       "ADR_SECTEUR               int64\n",
       "STADEDEDEVELOPPEMENT     object\n",
       "ANNEEDEPLANTATION       float64\n",
       "COLLECTIVITE             object\n",
       "Longitude               float64\n",
       "Latitude                float64\n",
       "GE                       object\n",
       "INVASIVE                 object\n",
       "dtype: object"
      ]
     },
     "metadata": {},
     "output_type": "display_data"
    },
    {
     "name": "stdout",
     "output_type": "stream",
     "text": [
      "\n"
     ]
    },
    {
     "data": {
      "text/plain": [
       "(30258, 10)"
      ]
     },
     "execution_count": 21,
     "metadata": {},
     "output_type": "execute_result"
    }
   ],
   "source": [
    "# Final variable types \n",
    "print('number of data per variable type')\n",
    "display(df_trees.dtypes)\n",
    "print(\"\")\n",
    "df_trees.shape"
   ]
  },
  {
   "cell_type": "markdown",
   "id": "bcf4550d-468d-4fbb-bd94-0f6a8b7d8629",
   "metadata": {
    "tags": []
   },
   "source": [
    "# VARIABLE DISTRIBUTION "
   ]
  },
  {
   "cell_type": "markdown",
   "id": "89ddd277-e573-4814-8203-0c12d1d069f2",
   "metadata": {
    "tags": []
   },
   "source": [
    "### Seeing target variable distribution "
   ]
  },
  {
   "cell_type": "code",
   "execution_count": 22,
   "id": "d4630e33-b0b8-4003-8332-3f231424a747",
   "metadata": {},
   "outputs": [
    {
     "name": "stderr",
     "output_type": "stream",
     "text": [
      "C:\\Users\\Asus\\anaconda3\\lib\\site-packages\\seaborn\\_decorators.py:36: FutureWarning: Pass the following variable as a keyword arg: x. From version 0.12, the only valid positional argument will be `data`, and passing other arguments without an explicit keyword will result in an error or misinterpretation.\n",
      "  warnings.warn(\n"
     ]
    },
    {
     "data": {
      "text/plain": [
       "<AxesSubplot:xlabel='ANNEEDEPLANTATION', ylabel='count'>"
      ]
     },
     "execution_count": 22,
     "metadata": {},
     "output_type": "execute_result"
    },
    {
     "data": {
      "image/png": "[encoded data removed]",
      "text/plain": [
       "<Figure size 1512x720 with 1 Axes>"
      ]
     },
     "metadata": {
      "needs_background": "light"
     },
     "output_type": "display_data"
    }
   ],
   "source": [
    "# Visualising GENRE_BOTA variable \n",
    "# print(df_trees['ANNEEDEPLANTATION'].value_counts())\n",
    "# df_trees['ANNEEDEPLANTATION'].value_counts().plot.bar(figsize=(21,10))\n",
    "plt.figure(figsize=(21,10))\n",
    "plt.xticks(rotation=90)\n",
    "sns.countplot(df_trees['ANNEEDEPLANTATION'])"
   ]
  },
  {
   "cell_type": "code",
   "execution_count": 23,
   "id": "e468c584-b5d2-4050-b596-5e03301915da",
   "metadata": {},
   "outputs": [
    {
     "data": {
      "text/plain": [
       "<seaborn.axisgrid.FacetGrid at 0x226ac772520>"
      ]
     },
     "execution_count": 23,
     "metadata": {},
     "output_type": "execute_result"
    },
    {
     "data": {
      "image/png": "[encoded data removed]",
      "text/plain": [
       "<Figure size 360x360 with 1 Axes>"
      ]
     },
     "metadata": {
      "needs_background": "light"
     },
     "output_type": "display_data"
    }
   ],
   "source": [
    "# Visualising GENRE_BOTA variable distribution \n",
    "sns.displot(df_trees['ANNEEDEPLANTATION'])"
   ]
  },
  {
   "cell_type": "markdown",
   "id": "955d5a5b-dcd7-4849-be78-20060da27ea6",
   "metadata": {},
   "source": [
    "### Categorical variable distributions "
   ]
  },
  {
   "cell_type": "code",
   "execution_count": 24,
   "id": "7053a05d-39f6-4f74-af34-1dc17997d411",
   "metadata": {},
   "outputs": [
    {
     "name": "stderr",
     "output_type": "stream",
     "text": [
      "C:\\Users\\Asus\\anaconda3\\lib\\site-packages\\seaborn\\_decorators.py:36: FutureWarning: Pass the following variable as a keyword arg: x. From version 0.12, the only valid positional argument will be `data`, and passing other arguments without an explicit keyword will result in an error or misinterpretation.\n",
      "  warnings.warn(\n"
     ]
    },
    {
     "data": {
      "text/plain": [
       "<AxesSubplot:xlabel='GE', ylabel='count'>"
      ]
     },
     "execution_count": 24,
     "metadata": {},
     "output_type": "execute_result"
    },
    {
     "data": {
      "image/png": "[encoded data removed]",
      "text/plain": [
       "<Figure size 432x288 with 1 Axes>"
      ]
     },
     "metadata": {
      "needs_background": "light"
     },
     "output_type": "display_data"
    }
   ],
   "source": [
    "# Visualising GENRE_BOTA variable \n",
    "# print(df_trees['GENRE_BOTA'].value_counts())\n",
    "# df_trees['GE'].value_counts().plot.bar(figsize=(21,10))\n",
    "sns.countplot(df_trees['GE'])"
   ]
  },
  {
   "cell_type": "code",
   "execution_count": 25,
   "id": "47f05a2c-6c7b-401c-825b-871bbcf39788",
   "metadata": {},
   "outputs": [
    {
     "name": "stderr",
     "output_type": "stream",
     "text": [
      "C:\\Users\\Asus\\anaconda3\\lib\\site-packages\\seaborn\\_decorators.py:36: FutureWarning: Pass the following variable as a keyword arg: x. From version 0.12, the only valid positional argument will be `data`, and passing other arguments without an explicit keyword will result in an error or misinterpretation.\n",
      "  warnings.warn(\n"
     ]
    },
    {
     "data": {
      "text/plain": [
       "<AxesSubplot:xlabel='INVASIVE', ylabel='count'>"
      ]
     },
     "execution_count": 25,
     "metadata": {},
     "output_type": "execute_result"
    },
    {
     "data": {
      "image/png": "[encoded data removed]",
      "text/plain": [
       "<Figure size 432x288 with 1 Axes>"
      ]
     },
     "metadata": {
      "needs_background": "light"
     },
     "output_type": "display_data"
    }
   ],
   "source": [
    "# Visualising ESPECE variable \n",
    "# print(df_trees['ESPECE'].value_counts())\n",
    "# df_trees['INVASIVE'].value_counts().plot.bar(figsize=(25,10))\n",
    "sns.countplot(df_trees['INVASIVE'])"
   ]
  },
  {
   "cell_type": "code",
   "execution_count": 26,
   "id": "2e3c0c38-b784-4f5f-ba5d-1f28904f68c6",
   "metadata": {},
   "outputs": [
    {
     "name": "stderr",
     "output_type": "stream",
     "text": [
      "C:\\Users\\Asus\\anaconda3\\lib\\site-packages\\seaborn\\_decorators.py:36: FutureWarning: Pass the following variable as a keyword arg: x. From version 0.12, the only valid positional argument will be `data`, and passing other arguments without an explicit keyword will result in an error or misinterpretation.\n",
      "  warnings.warn(\n"
     ]
    },
    {
     "data": {
      "text/plain": [
       "<AxesSubplot:xlabel='STADEDEDEVELOPPEMENT', ylabel='count'>"
      ]
     },
     "execution_count": 26,
     "metadata": {},
     "output_type": "execute_result"
    },
    {
     "data": {
      "image/png": "[encoded data removed]",
      "text/plain": [
       "<Figure size 432x288 with 1 Axes>"
      ]
     },
     "metadata": {
      "needs_background": "light"
     },
     "output_type": "display_data"
    }
   ],
   "source": [
    "# Visualising GENRE_BOTA variable \n",
    "# print(df_trees['STADEDEDEVELOPPEMENT'].value_counts())\n",
    "# df_trees['STADEDEDEVELOPPEMENT'].value_counts().plot.bar(figsize=(21,10))\n",
    "sns.countplot(df_trees['STADEDEDEVELOPPEMENT'])"
   ]
  },
  {
   "cell_type": "code",
   "execution_count": 27,
   "id": "522c6aaa-2fd4-4101-9c04-51a3ec096e7e",
   "metadata": {},
   "outputs": [
    {
     "name": "stderr",
     "output_type": "stream",
     "text": [
      "C:\\Users\\Asus\\anaconda3\\lib\\site-packages\\seaborn\\_decorators.py:36: FutureWarning: Pass the following variable as a keyword arg: x. From version 0.12, the only valid positional argument will be `data`, and passing other arguments without an explicit keyword will result in an error or misinterpretation.\n",
      "  warnings.warn(\n"
     ]
    },
    {
     "data": {
      "text/plain": [
       "<AxesSubplot:xlabel='SOUS_CATEGORIE_DESC', ylabel='count'>"
      ]
     },
     "execution_count": 27,
     "metadata": {},
     "output_type": "execute_result"
    },
    {
     "data": {
      "image/png": "[encoded data removed]",
      "text/plain": [
       "<Figure size 432x288 with 1 Axes>"
      ]
     },
     "metadata": {
      "needs_background": "light"
     },
     "output_type": "display_data"
    }
   ],
   "source": [
    "# Visualising SOUS_CATEGORIE_DESC variable \n",
    "# print(df_trees['SOUS_CATEGORIE_DESC'].value_counts())\n",
    "# df_trees['SOUS_CATEGORIE_DESC'].value_counts().plot.bar(figsize=(21,10))\n",
    "sns.countplot(df_trees['SOUS_CATEGORIE_DESC'])"
   ]
  },
  {
   "cell_type": "code",
   "execution_count": 28,
   "id": "a3b454a7-49dc-4d62-8737-c9ae5f6fa4fc",
   "metadata": {},
   "outputs": [
    {
     "name": "stderr",
     "output_type": "stream",
     "text": [
      "C:\\Users\\Asus\\anaconda3\\lib\\site-packages\\seaborn\\_decorators.py:36: FutureWarning: Pass the following variable as a keyword arg: x. From version 0.12, the only valid positional argument will be `data`, and passing other arguments without an explicit keyword will result in an error or misinterpretation.\n",
      "  warnings.warn(\n"
     ]
    },
    {
     "data": {
      "text/plain": [
       "<AxesSubplot:xlabel='ADR_SECTEUR', ylabel='count'>"
      ]
     },
     "execution_count": 28,
     "metadata": {},
     "output_type": "execute_result"
    },
    {
     "data": {
      "image/png": "[encoded data removed]",
      "text/plain": [
       "<Figure size 432x288 with 1 Axes>"
      ]
     },
     "metadata": {
      "needs_background": "light"
     },
     "output_type": "display_data"
    }
   ],
   "source": [
    "# Visualising SOUS_CATEGORIE_DESC variable \n",
    "# print(df_trees['ADR_SECTEUR'].value_counts())\n",
    "# df_trees['ADR_SECTEUR'].value_counts().plot.bar(figsize=(21,10))\n",
    "sns.countplot(df_trees['ADR_SECTEUR'])"
   ]
  },
  {
   "cell_type": "code",
   "execution_count": 29,
   "id": "0e1c540f-80f0-4bb1-bbaf-cfe78b8532ea",
   "metadata": {},
   "outputs": [
    {
     "name": "stderr",
     "output_type": "stream",
     "text": [
      "C:\\Users\\Asus\\anaconda3\\lib\\site-packages\\seaborn\\_decorators.py:36: FutureWarning: Pass the following variable as a keyword arg: x. From version 0.12, the only valid positional argument will be `data`, and passing other arguments without an explicit keyword will result in an error or misinterpretation.\n",
      "  warnings.warn(\n"
     ]
    },
    {
     "data": {
      "text/plain": [
       "<AxesSubplot:xlabel='COLLECTIVITE', ylabel='count'>"
      ]
     },
     "execution_count": 29,
     "metadata": {},
     "output_type": "execute_result"
    },
    {
     "data": {
      "image/png": "[encoded data removed]",
      "text/plain": [
       "<Figure size 432x288 with 1 Axes>"
      ]
     },
     "metadata": {
      "needs_background": "light"
     },
     "output_type": "display_data"
    }
   ],
   "source": [
    "# Visualising SOUS_CATEGORIE_DESC variable \n",
    "# print(df_trees['COLLECTIVITE'].value_counts())\n",
    "# df_trees['COLLECTIVITE'].value_counts().plot.bar(figsize=(21,10))\n",
    "sns.countplot(df_trees['COLLECTIVITE'])"
   ]
  },
  {
   "cell_type": "markdown",
   "id": "f5b39136-ccea-4a44-899b-ccf1d91af755",
   "metadata": {},
   "source": [
    "### Relation between numerical variables "
   ]
  },
  {
   "cell_type": "code",
   "execution_count": 30,
   "id": "83909165-b360-45e3-8501-18e3493c77cf",
   "metadata": {},
   "outputs": [
    {
     "data": {
      "text/html": [
       "<div>\n",
       "<style scoped>\n",
       "    .dataframe tbody tr th:only-of-type {\n",
       "        vertical-align: middle;\n",
       "    }\n",
       "\n",
       "    .dataframe tbody tr th {\n",
       "        vertical-align: top;\n",
       "    }\n",
       "\n",
       "    .dataframe thead th {\n",
       "        text-align: right;\n",
       "    }\n",
       "</style>\n",
       "<table border=\"1\" class=\"dataframe\">\n",
       "  <thead>\n",
       "    <tr style=\"text-align: right;\">\n",
       "      <th></th>\n",
       "      <th>ADR_SECTEUR</th>\n",
       "      <th>ANNEEDEPLANTATION</th>\n",
       "      <th>Longitude</th>\n",
       "      <th>Latitude</th>\n",
       "    </tr>\n",
       "  </thead>\n",
       "  <tbody>\n",
       "    <tr>\n",
       "      <th>ADR_SECTEUR</th>\n",
       "      <td>1.000000</td>\n",
       "      <td>-0.121113</td>\n",
       "      <td>0.503946</td>\n",
       "      <td>-0.694614</td>\n",
       "    </tr>\n",
       "    <tr>\n",
       "      <th>ANNEEDEPLANTATION</th>\n",
       "      <td>-0.121113</td>\n",
       "      <td>1.000000</td>\n",
       "      <td>-0.174451</td>\n",
       "      <td>0.044683</td>\n",
       "    </tr>\n",
       "    <tr>\n",
       "      <th>Longitude</th>\n",
       "      <td>0.503946</td>\n",
       "      <td>-0.174451</td>\n",
       "      <td>1.000000</td>\n",
       "      <td>0.042153</td>\n",
       "    </tr>\n",
       "    <tr>\n",
       "      <th>Latitude</th>\n",
       "      <td>-0.694614</td>\n",
       "      <td>0.044683</td>\n",
       "      <td>0.042153</td>\n",
       "      <td>1.000000</td>\n",
       "    </tr>\n",
       "  </tbody>\n",
       "</table>\n",
       "</div>"
      ],
      "text/plain": [
       "                   ADR_SECTEUR  ANNEEDEPLANTATION  Longitude  Latitude\n",
       "ADR_SECTEUR           1.000000          -0.121113   0.503946 -0.694614\n",
       "ANNEEDEPLANTATION    -0.121113           1.000000  -0.174451  0.044683\n",
       "Longitude             0.503946          -0.174451   1.000000  0.042153\n",
       "Latitude             -0.694614           0.044683   0.042153  1.000000"
      ]
     },
     "execution_count": 30,
     "metadata": {},
     "output_type": "execute_result"
    }
   ],
   "source": [
    "# correlation between numerical variables \n",
    "df_trees.corr()"
   ]
  },
  {
   "cell_type": "code",
   "execution_count": 31,
   "id": "43d8c38f-3438-4313-8836-acf21b6047f2",
   "metadata": {},
   "outputs": [
    {
     "data": {
      "text/plain": [
       "<AxesSubplot:>"
      ]
     },
     "execution_count": 31,
     "metadata": {},
     "output_type": "execute_result"
    },
    {
     "data": {
      "image/png": "[encoded data removed]",
      "text/plain": [
       "<Figure size 432x288 with 2 Axes>"
      ]
     },
     "metadata": {
      "needs_background": "light"
     },
     "output_type": "display_data"
    }
   ],
   "source": [
    "# correlation between numerical variables graph  \n",
    "sns.heatmap(df_trees.corr())"
   ]
  },
  {
   "cell_type": "markdown",
   "id": "be5129b6-52b0-4437-8ee6-af8629b56339",
   "metadata": {},
   "source": [
    "### Relation between target and other variables"
   ]
  },
  {
   "cell_type": "code",
   "execution_count": 32,
   "id": "d9fd3b8d-eb71-4047-bdd2-2a13a9b5a1e1",
   "metadata": {},
   "outputs": [
    {
     "data": {
      "text/plain": [
       "<AxesSubplot:xlabel='COLLECTIVITE', ylabel='ANNEEDEPLANTATION'>"
      ]
     },
     "execution_count": 32,
     "metadata": {},
     "output_type": "execute_result"
    },
    {
     "data": {
      "image/png": "[encoded data removed]",
      "text/plain": [
       "<Figure size 432x288 with 1 Axes>"
      ]
     },
     "metadata": {
      "needs_background": "light"
     },
     "output_type": "display_data"
    }
   ],
   "source": [
    "sns.boxplot(x='COLLECTIVITE', y='ANNEEDEPLANTATION', data=df_trees)"
   ]
  },
  {
   "cell_type": "code",
   "execution_count": 33,
   "id": "080f0d48-58ac-4c60-986e-1746d7766ee3",
   "metadata": {},
   "outputs": [
    {
     "data": {
      "text/plain": [
       "<AxesSubplot:xlabel='COLLECTIVITE', ylabel='count'>"
      ]
     },
     "execution_count": 33,
     "metadata": {},
     "output_type": "execute_result"
    },
    {
     "data": {
      "image/png": "[encoded data removed]",
      "text/plain": [
       "<Figure size 432x288 with 1 Axes>"
      ]
     },
     "metadata": {
      "needs_background": "light"
     },
     "output_type": "display_data"
    }
   ],
   "source": [
    "sns.countplot(x='COLLECTIVITE', hue='ANNEEDEPLANTATION', data=df_trees)"
   ]
  },
  {
   "cell_type": "code",
   "execution_count": 34,
   "id": "8e282745-bb42-4123-a4c2-c1e763be644b",
   "metadata": {
    "tags": []
   },
   "outputs": [
    {
     "data": {
      "text/html": [
       "<div>\n",
       "<style scoped>\n",
       "    .dataframe tbody tr th:only-of-type {\n",
       "        vertical-align: middle;\n",
       "    }\n",
       "\n",
       "    .dataframe tbody tr th {\n",
       "        vertical-align: top;\n",
       "    }\n",
       "\n",
       "    .dataframe thead th {\n",
       "        text-align: right;\n",
       "    }\n",
       "</style>\n",
       "<table border=\"1\" class=\"dataframe\">\n",
       "  <thead>\n",
       "    <tr style=\"text-align: right;\">\n",
       "      <th>STADEDEDEVELOPPEMENT</th>\n",
       "      <th>Arbre adulte</th>\n",
       "      <th>Arbre jeune</th>\n",
       "      <th>Arbre vieillissant</th>\n",
       "    </tr>\n",
       "    <tr>\n",
       "      <th>COLLECTIVITE</th>\n",
       "      <th></th>\n",
       "      <th></th>\n",
       "      <th></th>\n",
       "    </tr>\n",
       "  </thead>\n",
       "  <tbody>\n",
       "    <tr>\n",
       "      <th>Grenoble Alpes Métropole</th>\n",
       "      <td>9476</td>\n",
       "      <td>3563</td>\n",
       "      <td>311</td>\n",
       "    </tr>\n",
       "    <tr>\n",
       "      <th>Ville de Grenoble</th>\n",
       "      <td>11878</td>\n",
       "      <td>2465</td>\n",
       "      <td>397</td>\n",
       "    </tr>\n",
       "  </tbody>\n",
       "</table>\n",
       "</div>"
      ],
      "text/plain": [
       "STADEDEDEVELOPPEMENT      Arbre adulte  Arbre jeune  Arbre vieillissant\n",
       "COLLECTIVITE                                                           \n",
       "Grenoble Alpes Métropole          9476         3563                 311\n",
       "Ville de Grenoble                11878         2465                 397"
      ]
     },
     "execution_count": 34,
     "metadata": {},
     "output_type": "execute_result"
    }
   ],
   "source": [
    "pd.crosstab(df_trees['COLLECTIVITE'], df_trees['STADEDEDEVELOPPEMENT'])"
   ]
  },
  {
   "cell_type": "markdown",
   "id": "354ca736-a2c1-44b6-afb6-c235ccc84621",
   "metadata": {},
   "source": [
    "## TO PICKLE DATA FRAME "
   ]
  },
  {
   "cell_type": "code",
   "execution_count": 36,
   "id": "e83f9049-ad21-4fe4-ab4f-00ec115b003a",
   "metadata": {
    "tags": []
   },
   "outputs": [],
   "source": [
    "# to pickle data frame\n",
    "df_trees.to_pickle('./df_trees.pkl')"
   ]
  }
 ],
 "metadata": {
  "kernelspec": {
   "display_name": "Python 3 (ipykernel)",
   "language": "python",
   "name": "python3"
  },
  "language_info": {
   "codemirror_mode": {
    "name": "ipython",
    "version": 3
   },
   "file_extension": ".py",
   "mimetype": "text/x-python",
   "name": "python",
   "nbconvert_exporter": "python",
   "pygments_lexer": "ipython3",
   "version": "3.9.7"
  }
 },
 "nbformat": 4,
 "nbformat_minor": 5
}
