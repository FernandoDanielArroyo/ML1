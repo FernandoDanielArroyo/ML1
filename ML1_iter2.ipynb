{
 "cells": [
  {
   "cell_type": "markdown",
   "id": "bcead443-f32c-4dd0-826c-c448294661c0",
   "metadata": {},
   "source": [
    "## IMPORTING PACKAGES "
   ]
  },
  {
   "cell_type": "code",
   "execution_count": 42,
   "id": "0b1b0ce6-730c-480b-a625-6297bd6f388e",
   "metadata": {},
   "outputs": [],
   "source": [
    "# Importing packages \n",
    "import pandas as pd \n",
    "import numpy as np \n",
    "import matplotlib.pyplot as plt \n",
    "import seaborn as sns\n",
    "from sklearn.compose import make_column_selector\n",
    "from sklearn.compose import make_column_transformer\n",
    "from sklearn.pipeline import make_pipeline\n",
    "from sklearn.impute import SimpleImputer\n",
    "from sklearn.preprocessing import StandardScaler\n",
    "from sklearn.preprocessing import OneHotEncoder\n",
    "from sklearn.linear_model import LinearRegression\n",
    "from sklearn.model_selection import train_test_split\n",
    "from sklearn.svm import SVR\n",
    "from sklearn import tree\n",
    "from sklearn.ensemble import RandomForestRegressor\n",
    "from sklearn.model_selection import cross_val_score\n",
    "from sklearn.metrics import mean_squared_error\n",
    "from sklearn.model_selection import GridSearchCV"
   ]
  },
  {
   "cell_type": "markdown",
   "id": "62dd419b-50e1-4e8d-ba87-c69138ea9017",
   "metadata": {},
   "source": [
    "## USING READ PICKLE "
   ]
  },
  {
   "cell_type": "code",
   "execution_count": 2,
   "id": "d1006791-9336-46a6-ae00-f75b55e3b14a",
   "metadata": {},
   "outputs": [],
   "source": [
    "df_trees = pd.read_pickle('./df_trees.pkl')"
   ]
  },
  {
   "cell_type": "markdown",
   "id": "8eaa18d9-07e9-442e-9fe4-c7e1c91c1813",
   "metadata": {},
   "source": [
    "## CREATING DATA SPLIT "
   ]
  },
  {
   "cell_type": "code",
   "execution_count": 3,
   "id": "825433bf-19fe-4277-a15b-d9a1e8dc2a7f",
   "metadata": {},
   "outputs": [],
   "source": [
    "# Creating y and x \n",
    "y = df_trees['ANNEEDEPLANTATION']\n",
    "x = df_trees.drop('ANNEEDEPLANTATION', axis=1)\n",
    "\n",
    "# Creating training and testing dataset \n",
    "x_train, x_test, y_train, y_test = train_test_split(x, y, random_state=0) "
   ]
  },
  {
   "cell_type": "markdown",
   "id": "ec5fb99b-0c42-4f46-a308-4a4ceb881d5c",
   "metadata": {},
   "source": [
    "## PIPELINE "
   ]
  },
  {
   "cell_type": "code",
   "execution_count": 4,
   "id": "30755284-0bea-431a-a871-551bf1215aa3",
   "metadata": {},
   "outputs": [],
   "source": [
    "# Creating list of numerical and categorical values \n",
    "num_var = make_column_selector(dtype_include=np.number)\n",
    "cat_var = make_column_selector(dtype_include=object)"
   ]
  },
  {
   "cell_type": "code",
   "execution_count": 5,
   "id": "27b8a80b-b2bf-4758-bfa3-87cfe5fbd9df",
   "metadata": {},
   "outputs": [],
   "source": [
    "# Creating mun et cat pipelines \n",
    "num_pipeline = make_pipeline(SimpleImputer(strategy='most_frequent'), \n",
    "                             StandardScaler())\n",
    "\n",
    "cat_pipeline = make_pipeline(SimpleImputer(strategy='most_frequent'),\n",
    "                            OneHotEncoder(handle_unknown='ignore'))"
   ]
  },
  {
   "cell_type": "code",
   "execution_count": 6,
   "id": "2b3719de-e5b0-4cfd-8f87-d93f264d38fc",
   "metadata": {},
   "outputs": [],
   "source": [
    "# Creating pipeline combining num et cat var\n",
    "preprocess = make_column_transformer((num_pipeline, num_var),\n",
    "                                    (cat_pipeline, cat_var))"
   ]
  },
  {
   "cell_type": "code",
   "execution_count": 8,
   "id": "443495e3-b3c4-40df-b927-dbe98bbe7180",
   "metadata": {},
   "outputs": [],
   "source": [
    "# lin_model.named_steps['columntransformer'].transformers_[1][1].named_steps['onehotencoder'].categories_"
   ]
  },
  {
   "cell_type": "markdown",
   "id": "606514bb-d6a7-4854-beaa-ad19fb0def50",
   "metadata": {},
   "source": [
    "\n",
    "## TESTING NAIF_MODELE"
   ]
  },
  {
   "cell_type": "code",
   "execution_count": 9,
   "id": "28c51008-7cb4-43d7-abac-b6bb7dfcdfff",
   "metadata": {},
   "outputs": [],
   "source": [
    "# Creating naif model \n",
    "naif_model = y_train.mean()"
   ]
  },
  {
   "cell_type": "code",
   "execution_count": 21,
   "id": "d4a85af7-5f91-442f-97ad-a603810c1188",
   "metadata": {},
   "outputs": [
    {
     "name": "stdout",
     "output_type": "stream",
     "text": [
      "mean MSE = 321.4670713373224\n"
     ]
    }
   ],
   "source": [
    "# computing MSE of naif model \n",
    "def compute_MSE(y, y_predict):\n",
    "    mse = 0\n",
    "    n = len(y)\n",
    "    for i in (y):\n",
    "        mse_calcule = (i - y_predict)**2\n",
    "        mse = mse_calcule + mse\n",
    "    return mse / n \n",
    "\n",
    "# print(f'naif_model MSE =\n",
    "MSE_naif_model = compute_MSE(y_test, naif_model)\n",
    "print(f'mean MSE = {MSE_naif_model}')"
   ]
  },
  {
   "cell_type": "markdown",
   "id": "dba4f6b9-1f02-4d92-ae07-5f8726b43ceb",
   "metadata": {},
   "source": [
    "## TESTING LIN_MODELE"
   ]
  },
  {
   "cell_type": "code",
   "execution_count": 43,
   "id": "8905167a-8f56-4e93-83fa-fa871f5f7992",
   "metadata": {},
   "outputs": [
    {
     "name": "stdout",
     "output_type": "stream",
     "text": [
      "naif model MSE = 321.4670713373224\n",
      "lin_model train mean MSE: 162.58526634313242\n",
      "lin_model train std MSE: 4.693593014502271\n",
      "lin_model train mean R²: 0.4899604137256414\n",
      "lin_model train std R²: 0.009223693810323792\n"
     ]
    }
   ],
   "source": [
    "# Trainning lin_model and testing overfitting  \n",
    "\n",
    "# Creating \n",
    "lin_model = make_pipeline(preprocess, LinearRegression())\n",
    "\n",
    "# Testing overfitting \n",
    "lin_cv_scores_train = cross_val_score(lin_model, x_train, y_train, cv=5, scoring='neg_mean_squared_error')\n",
    "lin_cv_scores_R2_train = cross_val_score(lin_model, x_train, y_train, cv=5, scoring='r2')\n",
    "\n",
    "print(f'naif model MSE = {MSE_naif_model}')\n",
    "print('lin_model train mean MSE:',np.mean(-lin_cv_scores_train))\n",
    "print('lin_model train std MSE:',np.std(-lin_cv_scores_train))\n",
    "print('lin_model train mean R²:',np.mean(lin_cv_scores_R2_train))\n",
    "print('lin_model train std R²:',np.std(lin_cv_scores_R2_train))"
   ]
  },
  {
   "cell_type": "code",
   "execution_count": 41,
   "id": "740e3a58-9984-4061-be37-88e52a2a6f55",
   "metadata": {},
   "outputs": [
    {
     "name": "stdout",
     "output_type": "stream",
     "text": [
      "naif model MSE = 321.4670713373224\n",
      "lin_model train MSE : 156.89878787773398\n",
      "lin_model train R² : 0.5077390743965187\n",
      "lin_model test MSE : 163.84672887055598\n",
      "lin_model test R² : 0.49031431942549275\n"
     ]
    }
   ],
   "source": [
    "# Fitting and testing lin_model\n",
    "\n",
    "# Fitting \n",
    "lin_model.fit(x_train,y_train)\n",
    "\n",
    "# Testing \n",
    "y_pred_train_lin = lin_model.predict(x_train)\n",
    "lin_mse_train = mean_squared_error(y_train,y_pred_train_lin)\n",
    "y_pred_test_lin = lin_model.predict(x_test)\n",
    "lin_mse_test = mean_squared_error(y_test,y_pred_test_lin)\n",
    "lin_r2_train = lin_model.score(x_train, y_train)\n",
    "lin_r2_test = lin_model.score(x_test, y_test)\n",
    "\n",
    "print(f'naif model MSE = {MSE_naif_model}')\n",
    "print(f'lin_model train MSE : {lin_mse_train}')\n",
    "print(f'lin_model train R² : {lin_r2_train}')\n",
    "print(f'lin_model test MSE : {lin_mse_test}')\n",
    "print(f'lin_model test R² : {lin_r2_test}')"
   ]
  },
  {
   "cell_type": "markdown",
   "id": "1875ffab-c9b3-4f00-827f-64f39b8d484e",
   "metadata": {},
   "source": [
    "## TESTING SVR_MODEL"
   ]
  },
  {
   "cell_type": "code",
   "execution_count": 38,
   "id": "5f7cde2c-a0f7-46ee-916d-17a202b59170",
   "metadata": {},
   "outputs": [
    {
     "name": "stdout",
     "output_type": "stream",
     "text": [
      "naif model MSE = 321.4670713373224\n",
      "SVR_model train mean MSE: 155.5955785609023\n",
      "SVR_model train std MSE: 5.625580288666737\n",
      "SVR_model train mean R²: 0.5118950437257619\n",
      "SVR_model train std R²: 0.013632678461715661\n"
     ]
    }
   ],
   "source": [
    "# Creating forest_model and testing overfitting \n",
    "\n",
    "# Creating \n",
    "SVR_model = make_pipeline(preprocess, SVR())\n",
    "\n",
    "# Testing overfitting \n",
    "SVR_cv_scores_train = cross_val_score(SVR_model, x_train, y_train, cv=5, scoring='neg_mean_squared_error')\n",
    "SVR_cv_scores_R2_train = cross_val_score(SVR_model, x_train, y_train, cv=5, scoring='r2')\n",
    "\n",
    "print(f'naif model MSE = {MSE_naif_model}')\n",
    "print('SVR_model train mean MSE:',np.mean(-SVR_cv_scores_train))\n",
    "print('SVR_model train std MSE:',np.std(-SVR_cv_scores_train))\n",
    "print('SVR_model train mean R²:',np.mean(SVR_cv_scores_R2_train))\n",
    "print('SVR_model train std R²:',np.std(SVR_cv_scores_R2_train))"
   ]
  },
  {
   "cell_type": "code",
   "execution_count": 39,
   "id": "407ce00a-614d-422a-9724-2622d1d0d96c",
   "metadata": {},
   "outputs": [
    {
     "name": "stdout",
     "output_type": "stream",
     "text": [
      "naif model MSE = 321.4670713373224\n",
      "SVR_model train MSE : 145.97638236194607\n",
      "SVR_model train R² : 0.5420074936860813\n",
      "SVR_model test MSE : 153.445155778634\n",
      "SVR_model test R² : 0.5226709791949418\n"
     ]
    }
   ],
   "source": [
    "# Fitting and testing SVR_model\n",
    "\n",
    "# Fitting \n",
    "SVR_model.fit(x_train,y_train)\n",
    "\n",
    "# Testing \n",
    "y_pred_train_SVR = SVR_model.predict(x_train)\n",
    "SVR_mse_train = mean_squared_error(y_train,y_pred_train_SVR)\n",
    "y_pred_test_SVR = SVR_model.predict(x_test)\n",
    "SVR_mse_test = mean_squared_error(y_test,y_pred_test_SVR)\n",
    "SVR_r2_train = SVR_model.score(x_train, y_train)\n",
    "SVR_r2_test = SVR_model.score(x_test, y_test)\n",
    "\n",
    "print(f'naif model MSE = {MSE_naif_model}')\n",
    "print(f'SVR_model train MSE : {SVR_mse_train}')\n",
    "print(f'SVR_model train R² : {SVR_r2_train}')\n",
    "print(f'SVR_model test MSE : {SVR_mse_test}')\n",
    "print(f'SVR_model test R² : {SVR_r2_test}')"
   ]
  },
  {
   "cell_type": "markdown",
   "id": "035c8e09-373b-425f-abda-74cd0f6c6d3e",
   "metadata": {},
   "source": [
    "## TESTING TREE_MODEL"
   ]
  },
  {
   "cell_type": "code",
   "execution_count": 36,
   "id": "62ec6d9c-f0af-4a42-9739-bd3998404fc4",
   "metadata": {
    "tags": []
   },
   "outputs": [
    {
     "name": "stdout",
     "output_type": "stream",
     "text": [
      "naif model MSE = 321.4670713373224\n",
      "tree_model train mean MSE: 76.62608424456337\n",
      "tree_model train std MSE: 5.526464114823786\n",
      "tree_model train mean R²: 0.7575177242332058\n",
      "tree_model train std R²: 0.015454159856259241\n"
     ]
    }
   ],
   "source": [
    "# Creating tree_model and testing overfitting\n",
    "\n",
    "# Creating \n",
    "tree_model = make_pipeline(preprocess, tree.DecisionTreeRegressor())\n",
    "\n",
    "# Testing overfitting \n",
    "tree_cv_scores_train = cross_val_score(tree_model, x_train, y_train, cv=5, scoring='neg_mean_squared_error')\n",
    "tree_cv_scores_R2_train = cross_val_score(tree_model, x_train, y_train, cv=5, scoring='r2')\n",
    "\n",
    "print(f'naif model MSE = {MSE_naif_model}')\n",
    "print('tree_model train mean MSE:',np.mean(-tree_cv_scores_train))\n",
    "print('tree_model train std MSE:',np.std(-tree_cv_scores_train))\n",
    "print('tree_model train mean R²:',np.mean(tree_cv_scores_R2_train))\n",
    "print('tree_model train std R²:',np.std(tree_cv_scores_R2_train))"
   ]
  },
  {
   "cell_type": "code",
   "execution_count": 37,
   "id": "21853321-df53-42fb-adff-cc08828cbd92",
   "metadata": {},
   "outputs": [
    {
     "name": "stdout",
     "output_type": "stream",
     "text": [
      "naif model MSE = 321.4670713373224\n",
      "tree_model train MSE : 0.0\n",
      "tree_model train R² : 1.0\n",
      "tree_model test MSE : 73.25247851949769\n",
      "tree_model test R² : 0.7721300899606238\n"
     ]
    }
   ],
   "source": [
    "# Testing tree_model \n",
    "\n",
    "# Fitting \n",
    "tree_model.fit(x_train,y_train)\n",
    "\n",
    "# Testing \n",
    "y_pred_train_tree = tree_model.predict(x_train)\n",
    "tree_mse_train = mean_squared_error(y_train,y_pred_train_tree)\n",
    "y_pred_test_tree = tree_model.predict(x_test)\n",
    "tree_mse_test = mean_squared_error(y_test,y_pred_test_tree)\n",
    "tree_r2_train = tree_model.score(x_train, y_train)\n",
    "tree_r2_test = tree_model.score(x_test, y_test)\n",
    "\n",
    "print(f'naif model MSE = {MSE_naif_model}')\n",
    "print(f'tree_model train MSE : {tree_mse_train}')\n",
    "print(f'tree_model train R² : {tree_r2_train}')\n",
    "print(f'tree_model test MSE : {tree_mse_test}')\n",
    "print(f'tree_model test R² : {tree_r2_test}')"
   ]
  },
  {
   "cell_type": "markdown",
   "id": "03ac8165-dad0-4611-b16e-9f9294d1f304",
   "metadata": {},
   "source": [
    "## TESTING FOREST_MODEL"
   ]
  },
  {
   "cell_type": "code",
   "execution_count": 32,
   "id": "fe9bd0f0-d103-4f6a-b4ac-99d85dda9d1d",
   "metadata": {
    "tags": []
   },
   "outputs": [
    {
     "name": "stdout",
     "output_type": "stream",
     "text": [
      "naif model MSE = 321.4670713373224\n",
      "forest_model train mean MSE: 52.51664284142011\n",
      "forest_model train std MSE: 4.880023098675987\n",
      "forest_model train mean R²: 0.8340979899405413\n",
      "forest_model train std R²: 0.01389320100372562\n"
     ]
    }
   ],
   "source": [
    "# Creating forest_model and testing overfitting \n",
    "\n",
    "# Creating \n",
    "forest_model = make_pipeline(preprocess, RandomForestRegressor(n_estimators=10))\n",
    "\n",
    "# Testing overfitting \n",
    "forest_cv_scores_train = cross_val_score(forest_model, x_train, y_train, cv=5, scoring='neg_mean_squared_error')\n",
    "forest_cv_scores_R2_train = cross_val_score(forest_model, x_train, y_train, cv=5, scoring='r2')\n",
    "\n",
    "print(f'naif model MSE = {MSE_naif_model}')\n",
    "print('forest_model train mean MSE:',np.mean(-forest_cv_scores_train))\n",
    "print('forest_model train std MSE:',np.std(-forest_cv_scores_train))\n",
    "print('forest_model train mean R²:',np.mean(forest_cv_scores_R2_train))\n",
    "print('forest_model train std R²:',np.std(forest_cv_scores_R2_train))"
   ]
  },
  {
   "cell_type": "code",
   "execution_count": 35,
   "id": "ba032c7b-b7c7-4a98-885f-1dd4f74af106",
   "metadata": {},
   "outputs": [
    {
     "name": "stdout",
     "output_type": "stream",
     "text": [
      "naif model MSE = 321.4670713373224\n",
      "forest_model train MSE : 8.6451764861411\n",
      "forest_model train R² : 0.9728762558548918\n",
      "forest_model test MSE : 47.146270984798406\n",
      "forest_model test R² : 0.8533398904019537\n"
     ]
    }
   ],
   "source": [
    "# Fitting and testing forest_model\n",
    "\n",
    "# Fitting \n",
    "forest_model.fit(x_train,y_train)\n",
    "\n",
    "# Testing \n",
    "y_pred_train_forest = forest_model.predict(x_train)\n",
    "forest_mse_train = mean_squared_error(y_train,y_pred_train_forest)\n",
    "y_pred_test_forest = forest_model.predict(x_test)\n",
    "forest_mse_test = mean_squared_error(y_test,y_pred_test_forest)\n",
    "forest_r2_train = forest_model.score(x_train, y_train)\n",
    "forest_r2_test = forest_model.score(x_test, y_test)\n",
    "\n",
    "print(f'naif model MSE = {MSE_naif_model}')\n",
    "print(f'forest_model train MSE : {forest_mse_train}')\n",
    "print(f'forest_model train R² : {forest_r2_train}')\n",
    "print(f'forest_model test MSE : {forest_mse_test}')\n",
    "print(f'forest_model test R² : {forest_r2_test}')"
   ]
  },
  {
   "cell_type": "code",
   "execution_count": 45,
   "id": "bfc6564f-e59d-4988-a2b2-2f392f787782",
   "metadata": {},
   "outputs": [
    {
     "data": {
      "text/plain": [
       "dict_keys(['columntransformer', 'randomforestregressor'])"
      ]
     },
     "execution_count": 45,
     "metadata": {},
     "output_type": "execute_result"
    }
   ],
   "source": [
    "# Varifiying model kyes \n",
    "forest_model.named_steps.keys()"
   ]
  },
  {
   "cell_type": "markdown",
   "id": "27227887-6fb3-4bc2-afd5-b5990cefb5ec",
   "metadata": {},
   "source": [
    "## GRIDSEARCH RANDOM FOREST  "
   ]
  },
  {
   "cell_type": "code",
   "execution_count": 47,
   "id": "8439b48e-0bd7-4695-8bcd-fcc053fa17e5",
   "metadata": {},
   "outputs": [
    {
     "data": {
      "text/plain": [
       "GridSearchCV(cv=5,\n",
       "             estimator=Pipeline(steps=[('columntransformer',\n",
       "                                        ColumnTransformer(transformers=[('pipeline-1',\n",
       "                                                                         Pipeline(steps=[('simpleimputer',\n",
       "                                                                                          SimpleImputer(strategy='most_frequent')),\n",
       "                                                                                         ('standardscaler',\n",
       "                                                                                          StandardScaler())]),\n",
       "                                                                         <sklearn.compose._column_transformer.make_column_selector object at 0x7f6153826f40>),\n",
       "                                                                        ('pipeline-2',\n",
       "                                                                         Pipeline(steps=[('simpleimputer...\n",
       "                                                                                          OneHotEncoder(handle_unknown='ignore'))]),\n",
       "                                                                         <sklearn.compose._column_transformer.make_column_selector object at 0x7f6153826ee0>)])),\n",
       "                                       ('randomforestregressor',\n",
       "                                        RandomForestRegressor())]),\n",
       "             n_jobs=-1,\n",
       "             param_grid={'randomforestregressor__min_samples_leaf': [1, 2, 3,\n",
       "                                                                     4],\n",
       "                         'randomforestregressor__min_samples_split': [2, 3, 4],\n",
       "                         'randomforestregressor__n_estimators': [10, 25, 50, 75,\n",
       "                                                                 100]})"
      ]
     },
     "execution_count": 47,
     "metadata": {},
     "output_type": "execute_result"
    }
   ],
   "source": [
    "# Creating model \n",
    "model = make_pipeline(preprocess, RandomForestRegressor())\n",
    "\n",
    "# Creating \n",
    "params = {\n",
    "    'randomforestregressor__n_estimators':[75, 100, 125],\n",
    "    'randomforestregressor__min_samples_split':[2, 3, 4,],\n",
    "    'randomforestregressor__min_samples_leaf':[1, 2, 3, 4]\n",
    "}\n",
    "\n",
    "# Creating gridsearch \n",
    "grid = GridSearchCV(model, param_grid=params, cv=5,n_jobs=-1)\n",
    "\n",
    "# Model fitting \n",
    "grid.fit(x_train, y_train)"
   ]
  },
  {
   "cell_type": "code",
   "execution_count": 50,
   "id": "43b664a6-85f0-49e7-97e6-9f6422ac6c05",
   "metadata": {},
   "outputs": [
    {
     "data": {
      "text/plain": [
       "0.8685407677601558"
      ]
     },
     "execution_count": 50,
     "metadata": {},
     "output_type": "execute_result"
    }
   ],
   "source": [
    "# Model testing \n",
    "grid.score(x_test, y_test)"
   ]
  },
  {
   "cell_type": "code",
   "execution_count": 52,
   "id": "da1c1531-da5d-428b-b004-9cac9d2ef523",
   "metadata": {},
   "outputs": [
    {
     "data": {
      "text/plain": [
       "Pipeline(steps=[('columntransformer',\n",
       "                 ColumnTransformer(transformers=[('pipeline-1',\n",
       "                                                  Pipeline(steps=[('simpleimputer',\n",
       "                                                                   SimpleImputer(strategy='most_frequent')),\n",
       "                                                                  ('standardscaler',\n",
       "                                                                   StandardScaler())]),\n",
       "                                                  <sklearn.compose._column_transformer.make_column_selector object at 0x7f614b10c6d0>),\n",
       "                                                 ('pipeline-2',\n",
       "                                                  Pipeline(steps=[('simpleimputer',\n",
       "                                                                   SimpleImputer(strategy='most_frequent')),\n",
       "                                                                  ('onehotencoder',\n",
       "                                                                   OneHotEncoder(handle_unknown='ignore'))]),\n",
       "                                                  <sklearn.compose._column_transformer.make_column_selector object at 0x7f614a4075e0>)])),\n",
       "                ('randomforestregressor',\n",
       "                 RandomForestRegressor(n_estimators=75))])"
      ]
     },
     "execution_count": 52,
     "metadata": {},
     "output_type": "execute_result"
    }
   ],
   "source": [
    "grid.best_estimator_"
   ]
  }
 ],
 "metadata": {
  "kernelspec": {
   "display_name": "Python 3 (ipykernel)",
   "language": "python",
   "name": "python3"
  },
  "language_info": {
   "codemirror_mode": {
    "name": "ipython",
    "version": 3
   },
   "file_extension": ".py",
   "mimetype": "text/x-python",
   "name": "python",
   "nbconvert_exporter": "python",
   "pygments_lexer": "ipython3",
   "version": "3.9.7"
  }
 },
 "nbformat": 4,
 "nbformat_minor": 5
}
