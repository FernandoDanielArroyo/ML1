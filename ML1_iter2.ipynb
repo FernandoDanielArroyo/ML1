{
 "cells": [
  {
   "cell_type": "code",
   "execution_count": 29,
   "id": "0b1b0ce6-730c-480b-a625-6297bd6f388e",
   "metadata": {},
   "outputs": [],
   "source": [
    "# Importing packages \n",
    "import pandas as pd \n",
    "import numpy as np \n",
    "import matplotlib.pyplot as plt \n",
    "import seaborn as sns\n",
    "from sklearn.compose import make_column_selector\n",
    "from sklearn.compose import make_column_transformer\n",
    "from sklearn.pipeline import make_pipeline\n",
    "from sklearn.impute import SimpleImputer\n",
    "from sklearn.preprocessing import StandardScaler\n",
    "from sklearn.preprocessing import OneHotEncoder\n",
    "from sklearn.linear_model import LinearRegression\n",
    "from sklearn.model_selection import train_test_split\n",
    "from sklearn.svm import SVR\n",
    "from sklearn import tree\n",
    "from sklearn.ensemble import RandomForestRegressor"
   ]
  },
  {
   "cell_type": "markdown",
   "id": "62dd419b-50e1-4e8d-ba87-c69138ea9017",
   "metadata": {},
   "source": [
    "## USING READ PICKLE "
   ]
  },
  {
   "cell_type": "code",
   "execution_count": 2,
   "id": "d1006791-9336-46a6-ae00-f75b55e3b14a",
   "metadata": {},
   "outputs": [],
   "source": [
    "df_trees = pd.read_pickle('./df_trees.pkl')"
   ]
  },
  {
   "cell_type": "markdown",
   "id": "8eaa18d9-07e9-442e-9fe4-c7e1c91c1813",
   "metadata": {},
   "source": [
    "## PREPARING DATA "
   ]
  },
  {
   "cell_type": "code",
   "execution_count": 3,
   "id": "825433bf-19fe-4277-a15b-d9a1e8dc2a7f",
   "metadata": {},
   "outputs": [],
   "source": [
    "# Creating y and x \n",
    "y = df_trees['ANNEEDEPLANTATION']\n",
    "x = df_trees.drop('ANNEEDEPLANTATION', axis=1)\n",
    "\n",
    "# Creating training and testing dataset \n",
    "x_train, x_test, y_train, y_test = train_test_split(x, y, random_state=0) "
   ]
  },
  {
   "cell_type": "markdown",
   "id": "ec5fb99b-0c42-4f46-a308-4a4ceb881d5c",
   "metadata": {},
   "source": [
    "## PIPELINE "
   ]
  },
  {
   "cell_type": "code",
   "execution_count": 4,
   "id": "30755284-0bea-431a-a871-551bf1215aa3",
   "metadata": {},
   "outputs": [],
   "source": [
    "# Creating list of numerical and categorical values \n",
    "num_var = make_column_selector(dtype_include=np.number)\n",
    "cat_var = make_column_selector(dtype_include=object)"
   ]
  },
  {
   "cell_type": "code",
   "execution_count": 5,
   "id": "27b8a80b-b2bf-4758-bfa3-87cfe5fbd9df",
   "metadata": {},
   "outputs": [],
   "source": [
    "# Creating mun et cat pipelines \n",
    "num_pipeline = make_pipeline(SimpleImputer(strategy='most_frequent'), \n",
    "                             StandardScaler())\n",
    "\n",
    "cat_pipeline = make_pipeline(SimpleImputer(strategy='most_frequent'),\n",
    "                            OneHotEncoder(handle_unknown='ignore'))"
   ]
  },
  {
   "cell_type": "code",
   "execution_count": 6,
   "id": "2b3719de-e5b0-4cfd-8f87-d93f264d38fc",
   "metadata": {},
   "outputs": [],
   "source": [
    "# Creating pipeline combining num et cat var\n",
    "preprocess = make_column_transformer((num_pipeline, num_var),\n",
    "                                    (cat_pipeline, cat_var))"
   ]
  },
  {
   "cell_type": "code",
   "execution_count": 7,
   "id": "8ea53b3c-9f22-470f-b777-59f530b31fe4",
   "metadata": {},
   "outputs": [],
   "source": [
    "# Creating model pipeline \n",
    "lin_model = make_pipeline(preprocess, LinearRegression())\n",
    "# lin_model.fit(x, y)"
   ]
  },
  {
   "cell_type": "code",
   "execution_count": 8,
   "id": "443495e3-b3c4-40df-b927-dbe98bbe7180",
   "metadata": {},
   "outputs": [],
   "source": [
    "# lin_model.named_steps['columntransformer'].transformers_[1][1].named_steps['onehotencoder'].categories_"
   ]
  },
  {
   "cell_type": "markdown",
   "id": "606514bb-d6a7-4854-beaa-ad19fb0def50",
   "metadata": {},
   "source": [
    "## TESTING LIN_MODELE"
   ]
  },
  {
   "cell_type": "code",
   "execution_count": 9,
   "id": "8905167a-8f56-4e93-83fa-fa871f5f7992",
   "metadata": {},
   "outputs": [
    {
     "data": {
      "text/plain": [
       "Pipeline(steps=[('columntransformer',\n",
       "                 ColumnTransformer(transformers=[('pipeline-1',\n",
       "                                                  Pipeline(steps=[('simpleimputer',\n",
       "                                                                   SimpleImputer(strategy='most_frequent')),\n",
       "                                                                  ('standardscaler',\n",
       "                                                                   StandardScaler())]),\n",
       "                                                  <sklearn.compose._column_transformer.make_column_selector object at 0x7fc14434a370>),\n",
       "                                                 ('pipeline-2',\n",
       "                                                  Pipeline(steps=[('simpleimputer',\n",
       "                                                                   SimpleImputer(strategy='most_frequent')),\n",
       "                                                                  ('onehotencoder',\n",
       "                                                                   OneHotEncoder(handle_unknown='ignore'))]),\n",
       "                                                  <sklearn.compose._column_transformer.make_column_selector object at 0x7fc18400f760>)])),\n",
       "                ('linearregression', LinearRegression())])"
      ]
     },
     "execution_count": 9,
     "metadata": {},
     "output_type": "execute_result"
    }
   ],
   "source": [
    "# Trainning lin_model \n",
    "lin_model.fit(x_train, y_train)\n",
    "\n"
   ]
  },
  {
   "cell_type": "code",
   "execution_count": 36,
   "id": "740e3a58-9984-4061-be37-88e52a2a6f55",
   "metadata": {},
   "outputs": [
    {
     "name": "stdout",
     "output_type": "stream",
     "text": [
      " train = 0.5077390743965187\n",
      " test = 0.49031431942549275\n"
     ]
    }
   ],
   "source": [
    "# Testing lin_model \n",
    "# lin_model.score(x_test, y_test)\n",
    "print(f' train = {lin_model.score(x_train, y_train)}')\n",
    "print(f' test = {lin_model.score(x_test, y_test)}')"
   ]
  },
  {
   "cell_type": "markdown",
   "id": "1875ffab-c9b3-4f00-827f-64f39b8d484e",
   "metadata": {},
   "source": [
    "## TESTING SVR_MODEL"
   ]
  },
  {
   "cell_type": "code",
   "execution_count": 25,
   "id": "5f7cde2c-a0f7-46ee-916d-17a202b59170",
   "metadata": {},
   "outputs": [
    {
     "data": {
      "text/plain": [
       "Pipeline(steps=[('columntransformer',\n",
       "                 ColumnTransformer(transformers=[('pipeline-1',\n",
       "                                                  Pipeline(steps=[('simpleimputer',\n",
       "                                                                   SimpleImputer(strategy='most_frequent')),\n",
       "                                                                  ('standardscaler',\n",
       "                                                                   StandardScaler())]),\n",
       "                                                  <sklearn.compose._column_transformer.make_column_selector object at 0x7fc14434a370>),\n",
       "                                                 ('pipeline-2',\n",
       "                                                  Pipeline(steps=[('simpleimputer',\n",
       "                                                                   SimpleImputer(strategy='most_frequent')),\n",
       "                                                                  ('onehotencoder',\n",
       "                                                                   OneHotEncoder(handle_unknown='ignore'))]),\n",
       "                                                  <sklearn.compose._column_transformer.make_column_selector object at 0x7fc18400f760>)])),\n",
       "                ('svc', SVC())])"
      ]
     },
     "execution_count": 25,
     "metadata": {},
     "output_type": "execute_result"
    }
   ],
   "source": [
    "# Creating SVR_model pipeline and tranning \n",
    "SVR_model = make_pipeline(preprocess, SVC())\n",
    "SVR_model.fit(x_train, y_train)"
   ]
  },
  {
   "cell_type": "code",
   "execution_count": 35,
   "id": "407ce00a-614d-422a-9724-2622d1d0d96c",
   "metadata": {},
   "outputs": [
    {
     "name": "stdout",
     "output_type": "stream",
     "text": [
      " train = 0.6919314326003614\n",
      " test = 0.6457369464639788\n"
     ]
    }
   ],
   "source": [
    "# Testing SVR_model \n",
    "# SVR_model.score(x_test, y_test)\n",
    "print(f' train = {SVR_model.score(x_train, y_train)}')\n",
    "print(f' test = {SVR_model.score(x_test, y_test)}')"
   ]
  },
  {
   "cell_type": "markdown",
   "id": "035c8e09-373b-425f-abda-74cd0f6c6d3e",
   "metadata": {},
   "source": [
    "## TESTING TREE_MODEL"
   ]
  },
  {
   "cell_type": "code",
   "execution_count": 27,
   "id": "62ec6d9c-f0af-4a42-9739-bd3998404fc4",
   "metadata": {
    "tags": []
   },
   "outputs": [
    {
     "data": {
      "text/plain": [
       "Pipeline(steps=[('columntransformer',\n",
       "                 ColumnTransformer(transformers=[('pipeline-1',\n",
       "                                                  Pipeline(steps=[('simpleimputer',\n",
       "                                                                   SimpleImputer(strategy='most_frequent')),\n",
       "                                                                  ('standardscaler',\n",
       "                                                                   StandardScaler())]),\n",
       "                                                  <sklearn.compose._column_transformer.make_column_selector object at 0x7fc14434a370>),\n",
       "                                                 ('pipeline-2',\n",
       "                                                  Pipeline(steps=[('simpleimputer',\n",
       "                                                                   SimpleImputer(strategy='most_frequent')),\n",
       "                                                                  ('onehotencoder',\n",
       "                                                                   OneHotEncoder(handle_unknown='ignore'))]),\n",
       "                                                  <sklearn.compose._column_transformer.make_column_selector object at 0x7fc18400f760>)])),\n",
       "                ('decisiontreeregressor', DecisionTreeRegressor())])"
      ]
     },
     "execution_count": 27,
     "metadata": {},
     "output_type": "execute_result"
    }
   ],
   "source": [
    "# Creating tree_model and tranning \n",
    "tree_model = make_pipeline(preprocess, tree.DecisionTreeRegressor())\n",
    "tree_model.fit(x_train, y_train)"
   ]
  },
  {
   "cell_type": "code",
   "execution_count": 34,
   "id": "21853321-df53-42fb-adff-cc08828cbd92",
   "metadata": {},
   "outputs": [
    {
     "name": "stdout",
     "output_type": "stream",
     "text": [
      " train = 1.0\n",
      " test = 0.7811670868530733\n"
     ]
    }
   ],
   "source": [
    "# Testing tree_model \n",
    "# tree_model.score(x_test, y_test)\n",
    "print(f' train = {tree_model.score(x_train, y_train)}')\n",
    "print(f' test = {tree_model.score(x_test, y_test)}')"
   ]
  },
  {
   "cell_type": "markdown",
   "id": "03ac8165-dad0-4611-b16e-9f9294d1f304",
   "metadata": {},
   "source": [
    "## TESTING FOREST_MODEL"
   ]
  },
  {
   "cell_type": "code",
   "execution_count": 30,
   "id": "fe9bd0f0-d103-4f6a-b4ac-99d85dda9d1d",
   "metadata": {
    "tags": []
   },
   "outputs": [
    {
     "data": {
      "text/plain": [
       "Pipeline(steps=[('columntransformer',\n",
       "                 ColumnTransformer(transformers=[('pipeline-1',\n",
       "                                                  Pipeline(steps=[('simpleimputer',\n",
       "                                                                   SimpleImputer(strategy='most_frequent')),\n",
       "                                                                  ('standardscaler',\n",
       "                                                                   StandardScaler())]),\n",
       "                                                  <sklearn.compose._column_transformer.make_column_selector object at 0x7fc14434a370>),\n",
       "                                                 ('pipeline-2',\n",
       "                                                  Pipeline(steps=[('simpleimputer',\n",
       "                                                                   SimpleImputer(strategy='most_frequent')),\n",
       "                                                                  ('onehotencoder',\n",
       "                                                                   OneHotEncoder(handle_unknown='ignore'))]),\n",
       "                                                  <sklearn.compose._column_transformer.make_column_selector object at 0x7fc18400f760>)])),\n",
       "                ('randomforestregressor',\n",
       "                 RandomForestRegressor(n_estimators=10))])"
      ]
     },
     "execution_count": 30,
     "metadata": {},
     "output_type": "execute_result"
    }
   ],
   "source": [
    "# Creating forest_model and tranning \n",
    "forest_model = make_pipeline(preprocess, RandomForestRegressor(n_estimators=10))\n",
    "forest_model.fit(x_train, y_train)"
   ]
  },
  {
   "cell_type": "code",
   "execution_count": 33,
   "id": "ba032c7b-b7c7-4a98-885f-1dd4f74af106",
   "metadata": {},
   "outputs": [
    {
     "name": "stdout",
     "output_type": "stream",
     "text": [
      " train = 0.9735503946813454\n",
      " test = 0.8544623950425769\n"
     ]
    }
   ],
   "source": [
    "# Testing forest_model\n",
    "print(f' train = {forest_model.score(x_train, y_train)}')\n",
    "print(f' test = {forest_model.score(x_test, y_test)}')"
   ]
  },
  {
   "cell_type": "code",
   "execution_count": null,
   "id": "2786c2a2-30a8-43d1-854e-e3b944a7c18c",
   "metadata": {},
   "outputs": [],
   "source": []
  }
 ],
 "metadata": {
  "kernelspec": {
   "display_name": "Python 3 (ipykernel)",
   "language": "python",
   "name": "python3"
  },
  "language_info": {
   "codemirror_mode": {
    "name": "ipython",
    "version": 3
   },
   "file_extension": ".py",
   "mimetype": "text/x-python",
   "name": "python",
   "nbconvert_exporter": "python",
   "pygments_lexer": "ipython3",
   "version": "3.9.7"
  }
 },
 "nbformat": 4,
 "nbformat_minor": 5
}
